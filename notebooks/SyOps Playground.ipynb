{
 "cells": [
  {
   "cell_type": "code",
   "execution_count": 18,
   "metadata": {},
   "outputs": [],
   "source": [
    "# !pip install syops\n",
    "#syops-0.0.5\n",
    "# progress-1.6\n",
    "import syops\n",
    "import sys\n",
    "sys.path.append(\"../\")\n",
    "\n",
    "import torch\n",
    "from spikingjelly.activation_based import surrogate, neuron, functional\n",
    "from spikingjelly.activation_based.model import spiking_resnet\n",
    "from syops import get_model_complexity_info\n",
    "\n",
    "from src.data.datamodules import SpikingDataModule\n",
    "from src.training.tasks import EncodingTask, ClassificationTask\n",
    "from torchvision import transforms\n",
    "import pytorch_lightning as pl\n"
   ]
  },
  {
   "cell_type": "code",
   "execution_count": 32,
   "metadata": {},
   "outputs": [],
   "source": [
    "transform = transforms.Compose([\n",
    "                                    transforms.ToTensor()\n",
    "                                ]) \n",
    "data_module = SpikingDataModule(dataset=\"cifar10\", data_dir=\"../data/\", seed=42, input_transform=transform)\n",
    "data_module.setup()\n",
    "\n",
    "dataloader = data_module.test_dataloader()"
   ]
  },
  {
   "cell_type": "code",
   "execution_count": 33,
   "metadata": {},
   "outputs": [
    {
     "name": "stderr",
     "output_type": "stream",
     "text": [
      "c:\\Users\\dzahariev\\Desktop\\Thesis\\Thesis\\myenv\\Lib\\site-packages\\pytorch_lightning\\utilities\\parsing.py:209: Attribute 'model' is an instance of `nn.Module` and is already saved during checkpointing. It is recommended to ignore them using `self.save_hyperparameters(ignore=['model'])`.\n",
      "c:\\Users\\dzahariev\\Desktop\\Thesis\\Thesis\\myenv\\Lib\\site-packages\\pytorch_lightning\\utilities\\parsing.py:209: Attribute 'loss_fn' is an instance of `nn.Module` and is already saved during checkpointing. It is recommended to ignore them using `self.save_hyperparameters(ignore=['loss_fn'])`.\n"
     ]
    }
   ],
   "source": [
    "path = \"C:/Users/dzahariev/Desktop/Thesis/Thesis/weights/conv_stal_cifar10_20250525_202943.cpkt\"\n",
    "network = EncodingTask.load_from_checkpoint(path).model\n"
   ]
  },
  {
   "cell_type": "code",
   "execution_count": 34,
   "metadata": {},
   "outputs": [
    {
     "name": "stdout",
     "output_type": "stream",
     "text": [
      "Warning: module Dropout is treated as a zero-op.\n",
      "Warning: module ChannelInterpolateLayer is treated as a zero-op.\n",
      "Warning: module Block is treated as a zero-op.\n",
      "Warning: module Identity is treated as a zero-op.\n",
      "Warning: module ConvSTAL is treated as a zero-op.\n",
      "ConvSTAL(\n",
      "  (Z1): Block(\n",
      "    (conv): Conv2d(896, 5.211% Params, 0.0 Ops, 0.000% ACs, 917.5 K Ops, 47.966% MACs, 100.000% Spike Rate)\n",
      "    (relu): ReLU(0, 0.000% Params, 0.0 Ops, 0.000% ACs, 32.77 K Ops, 1.713% MACs, 100.000% Spike Rate)\n",
      "    (drop): Dropout()\n",
      "    (bn): BatchNorm2d(64, 0.372% Params, 0.0 Ops, 0.000% ACs, 65.54 K Ops, 3.426% MACs, 100.000% Spike Rate)\n",
      "    (match): ChannelInterpolateLayer()\n",
      "  )\n",
      "  (Z2): Block(\n",
      "    (conv): Conv2d(867, 5.043% Params, 0.0 Ops, 0.000% ACs, 887.81 K Ops, 46.413% MACs, 100.000% Spike Rate)\n",
      "    (relu): ReLU(0, 0.000% Params, 0.0 Ops, 0.000% ACs, 3.07 K Ops, 0.161% MACs, 100.000% Spike Rate)\n",
      "    (drop): Dropout()\n",
      "    (bn): BatchNorm2d(6, 0.035% Params, 0.0 Ops, 0.000% ACs, 6.14 K Ops, 0.321% MACs, 100.000% Spike Rate)\n",
      "    (match): Identity()\n",
      "  )\n",
      ")\n"
     ]
    }
   ],
   "source": [
    "with torch.cuda.device(0):\n",
    "    ops, params = get_model_complexity_info(network, (3, 32, 32), dataloader, as_strings=True,\n",
    "                                            print_per_layer_stat=True, verbose=True)\n",
    "    # print('{:<30}  {:<8}'.format('Computational complexity ACs:', acs))\n",
    "    # print('{:<30}  {:<8}'.format('Computational complexity MACs:', macs))\n",
    "    # print('{:<30}  {:<8}'.format('Number of parameters: ', params))"
   ]
  }
 ],
 "metadata": {
  "kernelspec": {
   "display_name": "myenv",
   "language": "python",
   "name": "python3"
  },
  "language_info": {
   "codemirror_mode": {
    "name": "ipython",
    "version": 3
   },
   "file_extension": ".py",
   "mimetype": "text/x-python",
   "name": "python",
   "nbconvert_exporter": "python",
   "pygments_lexer": "ipython3",
   "version": "3.12.2"
  }
 },
 "nbformat": 4,
 "nbformat_minor": 2
}
