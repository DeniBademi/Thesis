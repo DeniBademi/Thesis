{
 "cells": [
  {
   "cell_type": "markdown",
   "metadata": {},
   "source": [
    "# Bayesian optimization trials analysis"
   ]
  },
  {
   "cell_type": "code",
   "execution_count": 1,
   "metadata": {},
   "outputs": [
    {
     "name": "stderr",
     "output_type": "stream",
     "text": [
      "c:\\Users\\dzahariev\\Desktop\\Thesis\\Thesis\\myenv\\Lib\\site-packages\\tqdm\\auto.py:21: TqdmWarning: IProgress not found. Please update jupyter and ipywidgets. See https://ipywidgets.readthedocs.io/en/stable/user_install.html\n",
      "  from .autonotebook import tqdm as notebook_tqdm\n"
     ]
    }
   ],
   "source": [
    "import sys\n",
    "sys.path.append(\"..\")\n",
    "from src.data.datamodules import SpikingDataModule\n",
    "from src.training.utils import get_model, load_config\n",
    "from src.training.tasks import ClassificationTask\n",
    "from torch.nn import CrossEntropyLoss\n",
    "import pytorch_lightning as pl\n",
    "import torch\n"
   ]
  },
  {
   "cell_type": "markdown",
   "metadata": {},
   "source": [
    "### Load datasets"
   ]
  },
  {
   "cell_type": "code",
   "execution_count": 2,
   "metadata": {},
   "outputs": [],
   "source": [
    "mnist_data_module = SpikingDataModule(dataset=\"mnist\", data_dir=\"../data/\", seed=42)\n",
    "cifar10_data_module = SpikingDataModule(dataset=\"cifar10\", data_dir=\"../data/\", seed=42)\n",
    "mnist_data_module.setup()\n",
    "cifar10_data_module.setup()"
   ]
  },
  {
   "cell_type": "markdown",
   "metadata": {},
   "source": [
    "### Load selected \"best\" models from Pareto plots"
   ]
  },
  {
   "cell_type": "code",
   "execution_count": 3,
   "metadata": {},
   "outputs": [
    {
     "name": "stdout",
     "output_type": "stream",
     "text": [
      "Using Recurrent Classifier: Recurrent LIF Neurons.\n",
      "Using Recurrent Classifier: Recurrent LIF Neurons.\n"
     ]
    },
    {
     "name": "stderr",
     "output_type": "stream",
     "text": [
      "c:\\Users\\dzahariev\\Desktop\\Thesis\\Thesis\\myenv\\Lib\\site-packages\\pytorch_lightning\\utilities\\parsing.py:209: Attribute 'model' is an instance of `nn.Module` and is already saved during checkpointing. It is recommended to ignore them using `self.save_hyperparameters(ignore=['model'])`.\n",
      "c:\\Users\\dzahariev\\Desktop\\Thesis\\Thesis\\myenv\\Lib\\site-packages\\pytorch_lightning\\utilities\\parsing.py:209: Attribute 'loss_fn' is an instance of `nn.Module` and is already saved during checkpointing. It is recommended to ignore them using `self.save_hyperparameters(ignore=['loss_fn'])`.\n"
     ]
    }
   ],
   "source": [
    "config_spik_mnist = \"../config/optimize_spikformer_mnist.yaml\"\n",
    "config_srnn_mnist = \"../config/optimize_srnn_mnist.yaml\"\n",
    "config_spik_cifar10 = \"../config/optimize_spikformer_cifar10.yaml\"\n",
    "config_srnn_cifar10 = \"../config/optimize_srnn_cifar10.yaml\"\n",
    "\n",
    "model_weights = {\n",
    "    \"spikformer_mnist\": \"../experiments/thesis_hyperparameter_search_spikformer_mnist/dymo78zm/checkpoints/epoch=9-step=3760.ckpt\",\n",
    "    \"spikformer_cifar10\": \"../experiments/thesis_hyperparameter_search_spikformer_cifar10/298swbe8/checkpoints/epoch=9-step=3130.ckpt\",\n",
    "    \"srnn_mnist\": \"../experiments/thesis_hyperparameter_search_srnn_mnist/zfc1310z/checkpoints/epoch=4-step=1880.ckpt\",\n",
    "    \"srnn_cifar10\": \"../experiments/thesis_hyperparameter_search_srnn_cifar10/8a1y4lr1/checkpoints/epoch=4-step=1565.ckpt\",\n",
    "}\n",
    "\n",
    "\n",
    "def get_trained_model(model_name, dataset):\n",
    "    weights_path = model_weights[f\"{model_name}_{dataset}\"]\n",
    "    state_dict = torch.load(weights_path)['state_dict']\n",
    "    \n",
    "    if dataset == \"mnist\":\n",
    "        config = config_spik_mnist if model_name == \"spikformer\" else config_srnn_mnist\n",
    "    else:\n",
    "        config = config_spik_cifar10 if model_name == \"spikformer\" else config_srnn_cifar10\n",
    "\n",
    "    \n",
    "    model = get_model(load_config(config))\n",
    "    task = ClassificationTask(model, CrossEntropyLoss(), 0, backend='spikingjelly' if model_name == \"spikformer\" else \"pytorch\")\n",
    "    task.load_state_dict(state_dict)\n",
    "    return task\n",
    "\n",
    "\n",
    "\n",
    "srnn_mnist = get_trained_model(\"srnn\", \"mnist\")\n",
    "spikformer_mnist = get_trained_model(\"spikformer\", \"mnist\")\n",
    "srnn_cifar10 = get_trained_model(\"srnn\", \"cifar10\")\n",
    "spikformer_cifar10 = get_trained_model(\"spikformer\", \"cifar10\")"
   ]
  },
  {
   "cell_type": "markdown",
   "metadata": {},
   "source": [
    "### Compute test scores"
   ]
  },
  {
   "cell_type": "code",
   "execution_count": null,
   "metadata": {},
   "outputs": [],
   "source": [
    "def pretty_print_scores(scores):\n",
    "    acc_key = scores.keys()[0]\n",
    "    spike_density_key = scores.keys()[4]\n",
    "    print(f\"Accuracy: {scores[acc_key]:.2f}%\")\n",
    "    print(f\"Spike Density: {scores[spike_density_key]:.2f}\")"
   ]
  },
  {
   "cell_type": "code",
   "execution_count": 5,
   "metadata": {},
   "outputs": [
    {
     "name": "stderr",
     "output_type": "stream",
     "text": [
      "You are using the plain ModelCheckpoint callback. Consider using LitModelCheckpoint which with seamless uploading to Model registry.\n",
      "GPU available: True (cuda), used: True\n",
      "TPU available: False, using: 0 TPU cores\n",
      "HPU available: False, using: 0 HPUs\n",
      "LOCAL_RANK: 0 - CUDA_VISIBLE_DEVICES: [0]\n"
     ]
    },
    {
     "name": "stdout",
     "output_type": "stream",
     "text": [
      "Testing DataLoader 0: 100%|██████████| 2500/2500 [02:28<00:00, 16.83it/s]\n",
      "────────────────────────────────────────────────────────────────────────────────────────────────────────────────────────\n",
      "         Test metric                   DataLoader 0\n",
      "────────────────────────────────────────────────────────────────────────────────────────────────────────────────────────\n",
      "     test_accuracy_epoch            0.5148000121116638\n",
      "test_activation_sparsity_epoch      0.5188103318214417\n",
      "  test_binary_sparsity_epoch        0.7840859293937683\n",
      "       test_loss_epoch              1.3383750915527344\n",
      "   test_spike_density_epoch         0.2173953354358673\n",
      " test_temporal_sparsity_epoch       0.863655686378479\n",
      "────────────────────────────────────────────────────────────────────────────────────────────────────────────────────────\n"
     ]
    },
    {
     "name": "stderr",
     "output_type": "stream",
     "text": [
      "LOCAL_RANK: 0 - CUDA_VISIBLE_DEVICES: [0]\n"
     ]
    },
    {
     "name": "stdout",
     "output_type": "stream",
     "text": [
      "Testing DataLoader 0: 100%|██████████| 2500/2500 [03:27<00:00, 12.07it/s]\n",
      "────────────────────────────────────────────────────────────────────────────────────────────────────────────────────────\n",
      "         Test metric                   DataLoader 0\n",
      "────────────────────────────────────────────────────────────────────────────────────────────────────────────────────────\n",
      "     test_accuracy_epoch            0.7457000017166138\n",
      "test_activation_sparsity_epoch      0.5902919173240662\n",
      "  test_binary_sparsity_epoch        0.833260178565979\n",
      "       test_loss_epoch              0.7273970246315002\n",
      "   test_spike_density_epoch        0.16685990989208221\n",
      " test_temporal_sparsity_epoch       0.8336960077285767\n",
      "────────────────────────────────────────────────────────────────────────────────────────────────────────────────────────\n"
     ]
    },
    {
     "name": "stderr",
     "output_type": "stream",
     "text": [
      "LOCAL_RANK: 0 - CUDA_VISIBLE_DEVICES: [0]\n"
     ]
    },
    {
     "name": "stdout",
     "output_type": "stream",
     "text": [
      "Testing DataLoader 0: 100%|██████████| 2500/2500 [01:14<00:00, 33.58it/s]\n",
      "────────────────────────────────────────────────────────────────────────────────────────────────────────────────────────\n",
      "         Test metric                   DataLoader 0\n",
      "────────────────────────────────────────────────────────────────────────────────────────────────────────────────────────\n",
      "     test_accuracy_epoch            0.9610999822616577\n",
      "test_activation_sparsity_epoch      0.6892492771148682\n",
      "  test_binary_sparsity_epoch        0.9320600628852844\n",
      "       test_loss_epoch             0.17872175574302673\n",
      "   test_spike_density_epoch        0.07624271512031555\n",
      " test_temporal_sparsity_epoch       0.2717552185058594\n",
      "────────────────────────────────────────────────────────────────────────────────────────────────────────────────────────\n"
     ]
    },
    {
     "name": "stderr",
     "output_type": "stream",
     "text": [
      "LOCAL_RANK: 0 - CUDA_VISIBLE_DEVICES: [0]\n"
     ]
    },
    {
     "name": "stdout",
     "output_type": "stream",
     "text": [
      "Testing DataLoader 0: 100%|██████████| 2500/2500 [02:59<00:00, 13.94it/s]\n",
      "────────────────────────────────────────────────────────────────────────────────────────────────────────────────────────\n",
      "         Test metric                   DataLoader 0\n",
      "────────────────────────────────────────────────────────────────────────────────────────────────────────────────────────\n",
      "     test_accuracy_epoch            0.982200026512146\n",
      "test_activation_sparsity_epoch      0.7166489958763123\n",
      "  test_binary_sparsity_epoch        0.918038547039032\n",
      "       test_loss_epoch             0.060833368450403214\n",
      "   test_spike_density_epoch         0.0821024551987648\n",
      " test_temporal_sparsity_epoch       0.409807413816452\n",
      "────────────────────────────────────────────────────────────────────────────────────────────────────────────────────────\n"
     ]
    },
    {
     "data": {
      "text/plain": [
       "[{'test_loss_epoch': 0.060833368450403214,\n",
       "  'test_accuracy_epoch': 0.982200026512146,\n",
       "  'test_activation_sparsity_epoch': 0.7166489958763123,\n",
       "  'test_binary_sparsity_epoch': 0.918038547039032,\n",
       "  'test_temporal_sparsity_epoch': 0.409807413816452,\n",
       "  'test_spike_density_epoch': 0.0821024551987648}]"
      ]
     },
     "execution_count": 5,
     "metadata": {},
     "output_type": "execute_result"
    }
   ],
   "source": [
    "trainer = pl.Trainer(max_epochs=10)\n",
    "srnn_cifar10_scores = trainer.test(srnn_cifar10, cifar10_data_module)\n",
    "spikformer_cifar10_scores = trainer.test(spikformer_cifar10, cifar10_data_module)\n",
    "srnn_mnist_scores = trainer.test(srnn_mnist, mnist_data_module)\n",
    "spikformer_mnist_scores = trainer.test(spikformer_mnist, mnist_data_module)\n",
    "\n",
    "print(\"SRNN CIFAR10\")\n",
    "pretty_print_scores(srnn_cifar10_scores)\n",
    "print(\"-\"*100)\n",
    "print(\"Spikformer CIFAR10\")\n",
    "pretty_print_scores(spikformer_cifar10_scores)\n",
    "print(\"SRNN MNIST\")\n",
    "pretty_print_scores(srnn_mnist_scores)\n",
    "print(\"Spikformer MNIST\")\n",
    "pretty_print_scores(spikformer_mnist_scores)"
   ]
  },
  {
   "cell_type": "code",
   "execution_count": null,
   "metadata": {},
   "outputs": [],
   "source": []
  }
 ],
 "metadata": {
  "kernelspec": {
   "display_name": "myenv",
   "language": "python",
   "name": "python3"
  },
  "language_info": {
   "codemirror_mode": {
    "name": "ipython",
    "version": 3
   },
   "file_extension": ".py",
   "mimetype": "text/x-python",
   "name": "python",
   "nbconvert_exporter": "python",
   "pygments_lexer": "ipython3",
   "version": "3.12.2"
  }
 },
 "nbformat": 4,
 "nbformat_minor": 2
}
