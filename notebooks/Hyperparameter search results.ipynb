{
 "cells": [
  {
   "cell_type": "code",
   "execution_count": 1,
   "metadata": {},
   "outputs": [
    {
     "name": "stderr",
     "output_type": "stream",
     "text": [
      "c:\\Users\\dzahariev\\Desktop\\Thesis\\Thesis\\myenv\\Lib\\site-packages\\tqdm\\auto.py:21: TqdmWarning: IProgress not found. Please update jupyter and ipywidgets. See https://ipywidgets.readthedocs.io/en/stable/user_install.html\n",
      "  from .autonotebook import tqdm as notebook_tqdm\n"
     ]
    }
   ],
   "source": [
    "import sys\n",
    "sys.path.append(\"..\")\n",
    "\n",
    "import optuna\n",
    "import plotly.graph_objects as go\n",
    "from plotly.subplots import make_subplots\n",
    "import matplotlib.pyplot as plt\n",
    "import optuna\n",
    "import pandas as pd\n",
    "import numpy as np"
   ]
  },
  {
   "cell_type": "code",
   "execution_count": 2,
   "metadata": {},
   "outputs": [],
   "source": [
    "logs_path = \"sqlite:///C:/Users/dzahariev/Desktop/Thesis/Thesis/experiments/hyperparameter_search/\"\n",
    "\n",
    "logname1 = \"study_srnn_mnist_20250609_205015.db\"\n",
    "logname2 = \"study_srnn_cifar10_20250609_205039.db\"\n",
    "logname3 = \"study_spikformer_mnist_20250610_014324.db\"\n",
    "logname4 = \"study_spikformer_cifar10_20250610_145021.db\"\n",
    "\n",
    "study_srnn_mnist = optuna.load_study(study_name=\"ce_ss_loss_optimization\", storage = f\"{logs_path}/{logname1}\")\n",
    "study_srnn_cifar10 = optuna.load_study(study_name=\"ce_ss_loss_optimization\", storage = f\"{logs_path}/{logname2}\")\n",
    "study_spikformer_mnist = optuna.load_study(study_name=\"ce_ss_loss_optimization\", storage = f\"{logs_path}/{logname3}\")\n",
    "study_spikformer_cifar10 = optuna.load_study(study_name=\"ce_ss_loss_optimization\", storage = f\"{logs_path}/{logname4}\")\n",
    "\n",
    "experiments = [\n",
    "    (study_srnn_mnist, 'ConvSTAL-SRNN-MNIST'),\n",
    "    (study_srnn_cifar10, 'ConvSTAL-SRNN-CIFAR10'),\n",
    "    (study_spikformer_mnist, 'ConvSTAL-PS-Spikformer-MNIST'),\n",
    "    (study_spikformer_cifar10, 'ConvSTAL-PS-Spikformer-CIFAR10')\n",
    "]"
   ]
  },
  {
   "cell_type": "code",
   "execution_count": 3,
   "metadata": {},
   "outputs": [],
   "source": [
    "def get_pareto_params(study):\n",
    "    \"\"\"Extract omega values and metrics for Pareto-optimal solutions.\"\"\"\n",
    "    pareto_trials = study.best_trials\n",
    "    omegas = [t.params['omega'] for t in pareto_trials]\n",
    "    accuracies = [t.values[0] for t in pareto_trials]\n",
    "    spikes = [t.values[1] for t in pareto_trials]\n",
    "    \n",
    "    # Sort by spike density for consistent plotting\n",
    "    sorted_data = sorted(zip(spikes, accuracies, omegas))\n",
    "    spikes, accuracies, omegas = zip(*sorted_data)\n",
    "    \n",
    "    return omegas, accuracies, spikes\n",
    "\n",
    "def get_all_trials_data(study):\n",
    "    \"\"\"Extract Pareto-optimal and dominated solutions from study.\"\"\"\n",
    "    pareto_trials = study.best_trials\n",
    "    pareto_accuracies = [t.values[0] for t in pareto_trials]\n",
    "    pareto_spikes = [t.values[1] for t in pareto_trials]\n",
    "    \n",
    "    all_trials = [(t.values[0], t.values[1]) for t in study.trials if t.values is not None]\n",
    "    dominated = [(a, s) for a, s in all_trials if s not in pareto_spikes or a not in pareto_accuracies]\n",
    "    dominated_accuracies, dominated_spikes = zip(*dominated) if dominated else ([], [])\n",
    "    \n",
    "    # Sort Pareto front data\n",
    "    pareto_data = sorted(zip(pareto_spikes, pareto_accuracies))\n",
    "    pareto_spikes, pareto_accuracies = zip(*pareto_data)\n",
    "    \n",
    "    return pareto_accuracies, pareto_spikes, dominated_accuracies, dominated_spikes\n",
    "\n",
    "def add_subplot_traces(fig, study, name, row, col, color):\n",
    "    \"\"\"Add Pareto front and dominated points to subplot.\"\"\"\n",
    "    acc, spikes, dom_acc, dom_spikes = get_all_trials_data(study)\n",
    "    \n",
    "    # Add dominated points\n",
    "    if dom_spikes:  # Only add if there are dominated points\n",
    "        fig.add_trace(\n",
    "            go.Scatter(x=dom_spikes, y=dom_acc, mode='markers',\n",
    "                      name=f'Dominated solutions',\n",
    "                      marker=dict(color='black', size=5, opacity=0.5),\n",
    "                      legendgroup=name,\n",
    "                      legendgrouptitle_text=name,\n",
    "                      showlegend=True),\n",
    "            row=row, col=col\n",
    "        )\n",
    "    \n",
    "    # Add Pareto front\n",
    "    fig.add_trace(\n",
    "        go.Scatter(x=spikes, y=acc, mode='lines+markers',\n",
    "                  name=f'Pareto front',\n",
    "                  line=dict(color=color),\n",
    "                  legendgroup=name,\n",
    "                  showlegend=True),\n",
    "        row=row, col=col\n",
    "    )"
   ]
  },
  {
   "cell_type": "code",
   "execution_count": 4,
   "metadata": {},
   "outputs": [
    {
     "data": {
      "application/vnd.plotly.v1+json": {
       "config": {
        "plotlyServerURL": "https://plot.ly"
       },
       "data": [
        {
         "legendgroup": "ConvSTAL-SRNN-MNIST",
         "legendgrouptitle": {
          "text": "ConvSTAL-SRNN-MNIST"
         },
         "marker": {
          "color": "black",
          "opacity": 0.5,
          "size": 5
         },
         "mode": "markers",
         "name": "Dominated solutions",
         "showlegend": true,
         "type": "scatter",
         "x": [
          0.1498367190361023,
          0.07723154872655869,
          0.0054849497973918915,
          0.13639520108699799,
          0.10800822824239731,
          0.010620242916047573,
          0.04025581106543541,
          0.10866646468639374,
          0.08119472116231918,
          0.09472636878490448,
          0.1383681744337082,
          0.07643663138151169,
          0.06653916835784912,
          0.11079853773117065,
          0.12677058577537537,
          0.06130436807870865,
          0.011113429442048073,
          0.010490327142179012,
          0.1326989084482193,
          0.10744902491569519,
          0.006251886021345854,
          0.005730404518544674,
          0.0061054411344230175,
          0.006201775744557381
         ],
         "xaxis": "x",
         "y": [
          0.959163248538971,
          0.9567463994026184,
          0.9399949908256531,
          0.9586632251739502,
          0.9580798149108887,
          0.9529127478599548,
          0.9569130539894104,
          0.9569964408874512,
          0.9585798978805542,
          0.9532461166381836,
          0.9572464227676392,
          0.9579131603240967,
          0.958996593952179,
          0.958996593952179,
          0.959079921245575,
          0.9600800275802612,
          0.9516626596450806,
          0.9484956860542297,
          0.958996593952179,
          0.9564963579177856,
          0.936911404132843,
          0.9222435355186462,
          0.93841153383255,
          0.9330777525901794
         ],
         "yaxis": "y"
        },
        {
         "legendgroup": "ConvSTAL-SRNN-MNIST",
         "line": {
          "color": "blue"
         },
         "mode": "lines+markers",
         "name": "Pareto front",
         "showlegend": true,
         "type": "scatter",
         "x": [
          0.004890745505690575,
          0.005138889420777559,
          0.006639376282691956,
          0.007252225652337074,
          0.008291613310575485,
          0.010344421491026878,
          0.011062844656407833,
          0.03727404773235321,
          0.04220593348145485,
          0.0448935367166996,
          0.11661576479673386
         ],
         "xaxis": "x",
         "y": [
          0.9306609034538269,
          0.9419951438903809,
          0.9449120759963989,
          0.9503291845321655,
          0.9506625533103943,
          0.9531627893447876,
          0.9549129009246826,
          0.9577465057373047,
          0.9602466821670532,
          0.9609134197235107,
          0.9634135961532593
         ],
         "yaxis": "y"
        },
        {
         "legendgroup": "ConvSTAL-SRNN-CIFAR10",
         "legendgrouptitle": {
          "text": "ConvSTAL-SRNN-CIFAR10"
         },
         "marker": {
          "color": "black",
          "opacity": 0.5,
          "size": 5
         },
         "mode": "markers",
         "name": "Dominated solutions",
         "showlegend": true,
         "type": "scatter",
         "x": [
          0.029326394200325012,
          0.06706313788890839,
          0.09367969632148743,
          0.15212441980838776,
          0.15994049608707428,
          0.023875268176198006,
          0.006026880815625191,
          0.20838528871536255,
          0.017414774745702744,
          0.027402102947235107,
          0.04383217543363571,
          0.004748940467834473,
          0.19627773761749268,
          0.05977107211947441,
          0.06493990123271942,
          0.08340234309434891,
          0.16804459691047668,
          0.04309418797492981,
          0.13469870388507843,
          0.0863153263926506,
          0.00732220197096467,
          0.21682485938072205,
          0.1060471162199974,
          0.004251501057296991
         ],
         "xaxis": "x2",
         "y": [
          0.48924893140792847,
          0.5037503838539124,
          0.5137513875961304,
          0.5011501312255859,
          0.5064506530761719,
          0.47214722633361816,
          0.42924293875694275,
          0.5047504901885986,
          0.4752475321292877,
          0.4831483066082001,
          0.4947494864463806,
          0.4349434971809387,
          0.5136513710021973,
          0.5038504004478455,
          0.5061506032943726,
          0.504150390625,
          0.5071507096290588,
          0.49764975905418396,
          0.5078507661819458,
          0.5031503438949585,
          0.4567456841468811,
          0.5116511583328247,
          0.508050799369812,
          0.45634564757347107
         ],
         "yaxis": "y2"
        },
        {
         "legendgroup": "ConvSTAL-SRNN-CIFAR10",
         "line": {
          "color": "red"
         },
         "mode": "lines+markers",
         "name": "Pareto front",
         "showlegend": true,
         "type": "scatter",
         "x": [
          0.003227819222956896,
          0.0035252354573458433,
          0.0037145372480154037,
          0.0041785938665270805,
          0.022146644070744514,
          0.03170931339263916,
          0.03588614612817764,
          0.05601078271865845,
          0.08920758217573166,
          0.12044797092676163,
          0.17726248502731323
         ],
         "xaxis": "x2",
         "y": [
          0.45634564757347107,
          0.46454644203186035,
          0.4728472828865051,
          0.47564756870269775,
          0.4895489513874054,
          0.5071507096290588,
          0.508050799369812,
          0.5093509554862976,
          0.5163516402244568,
          0.519451916217804,
          0.529452919960022
         ],
         "yaxis": "y2"
        },
        {
         "legendgroup": "ConvSTAL-PS-Spikformer-MNIST",
         "legendgrouptitle": {
          "text": "ConvSTAL-PS-Spikformer-MNIST"
         },
         "marker": {
          "color": "black",
          "opacity": 0.5,
          "size": 5
         },
         "mode": "markers",
         "name": "Dominated solutions",
         "showlegend": true,
         "type": "scatter",
         "x": [
          0.02501240372657776,
          0.6287960410118103,
          0.6431168913841248,
          0.02857457846403122,
          0.6688363552093506,
          0.6516576409339905,
          0.05171835049986839,
          0.529793918132782,
          0.5070255994796753,
          0.10848169773817062,
          0.5166720747947693,
          0.6547127366065979,
          0.0644291564822197,
          0.4389589726924896,
          0.6135469675064087,
          0.6866554617881775,
          0.13134445250034332,
          0.11457596719264984,
          0.4845775365829468,
          0.6071869730949402,
          0.021817367523908615
         ],
         "xaxis": "x3",
         "y": [
          0.9774147868156433,
          0.9898324608802795,
          0.9895824790000916,
          0.9737477898597717,
          0.9898324608802795,
          0.9894157648086548,
          0.9804983735084534,
          0.989082396030426,
          0.9885823726654053,
          0.9806650280952454,
          0.9892491102218628,
          0.9903325438499451,
          0.9799149632453918,
          0.987415611743927,
          0.98899906873703,
          0.9895824790000916,
          0.9824985265731812,
          0.9812484383583069,
          0.9884157180786133,
          0.9897491335868835,
          0.976164698600769
         ],
         "yaxis": "y3"
        },
        {
         "legendgroup": "ConvSTAL-PS-Spikformer-MNIST",
         "line": {
          "color": "green"
         },
         "mode": "lines+markers",
         "name": "Pareto front",
         "showlegend": true,
         "type": "scatter",
         "x": [
          0.0191195011138916,
          0.020497111603617668,
          0.03735147416591644,
          0.051519155502319336,
          0.08247704058885574,
          0.2534390389919281,
          0.2585373818874359,
          0.362286239862442,
          0.4262385368347168,
          0.4702451527118683,
          0.5057891607284546,
          0.5149202346801758,
          0.5784596800804138
         ],
         "xaxis": "x3",
         "y": [
          0.9709142446517944,
          0.9780815243721008,
          0.9793316125869751,
          0.9822485446929932,
          0.9833319187164307,
          0.984165370464325,
          0.9845820665359497,
          0.9871655702590942,
          0.98899906873703,
          0.989082396030426,
          0.9907492399215698,
          0.9909992218017578,
          0.9910826086997986
         ],
         "yaxis": "y3"
        },
        {
         "legendgroup": "ConvSTAL-PS-Spikformer-CIFAR10",
         "legendgrouptitle": {
          "text": "ConvSTAL-PS-Spikformer-CIFAR10"
         },
         "marker": {
          "color": "black",
          "opacity": 0.5,
          "size": 5
         },
         "mode": "markers",
         "name": "Dominated solutions",
         "showlegend": true,
         "type": "scatter",
         "x": [
          0.16608023643493652,
          0.6998963356018066,
          0.7118726372718811,
          0.2229204922914505,
          0.7207217812538147,
          0.7113783359527588,
          0.7127625942230225,
          0.7055270075798035,
          0.40842363238334656,
          0.3928903341293335,
          0.7098759412765503,
          0.6640634536743164,
          0.7130644917488098,
          0.3206811547279358,
          0.6110078692436218,
          0.24485132098197937,
          0.18597044050693512,
          0.19780980050563812,
          0.7151353359222412,
          0.6379386186599731,
          0.5898786187171936,
          0.7038028240203857,
          0.21738587319850922,
          0.2757936120033264,
          0.67852783203125,
          0.6766823530197144,
          0.720255970954895,
          0.12025567889213562
         ],
         "xaxis": "x4",
         "y": [
          0.7442744374275208,
          0.7577757835388184,
          0.7608760595321655,
          0.7426742911338806,
          0.7496749758720398,
          0.758175790309906,
          0.7584758400917053,
          0.7602760195732117,
          0.7546754479408264,
          0.7542754411697388,
          0.7591758966445923,
          0.7596759796142578,
          0.7509750723838806,
          0.7476747632026672,
          0.7582758069038391,
          0.7462746500968933,
          0.7470747232437134,
          0.7435743808746338,
          0.7639763951301575,
          0.762076199054718,
          0.7578758001327515,
          0.7626762390136719,
          0.7433743476867676,
          0.7445744872093201,
          0.7588759064674377,
          0.755975604057312,
          0.7582758069038391,
          0.7283728122711182
         ],
         "yaxis": "y4"
        },
        {
         "legendgroup": "ConvSTAL-PS-Spikformer-CIFAR10",
         "line": {
          "color": "purple"
         },
         "mode": "lines+markers",
         "name": "Pareto front",
         "showlegend": true,
         "type": "scatter",
         "x": [
          0.08643687516450882,
          0.08710796386003494,
          0.14825601875782013,
          0.15620160102844238,
          0.22554533183574677,
          0.3453114330768585,
          0.37452563643455505,
          0.6156774163246155
         ],
         "xaxis": "x4",
         "y": [
          0.7235723733901978,
          0.7375737428665161,
          0.742074191570282,
          0.747474730014801,
          0.7514751553535461,
          0.7545754313468933,
          0.7601760029792786,
          0.7685768604278564
         ],
         "yaxis": "y4"
        }
       ],
       "layout": {
        "annotations": [
         {
          "font": {
           "size": 16
          },
          "showarrow": false,
          "text": "ConvSTAL-SRNN-MNIST",
          "x": 0.22,
          "xanchor": "center",
          "xref": "paper",
          "y": 1,
          "yanchor": "bottom",
          "yref": "paper"
         },
         {
          "font": {
           "size": 16
          },
          "showarrow": false,
          "text": "ConvSTAL-SRNN-CIFAR10",
          "x": 0.78,
          "xanchor": "center",
          "xref": "paper",
          "y": 1,
          "yanchor": "bottom",
          "yref": "paper"
         },
         {
          "font": {
           "size": 16
          },
          "showarrow": false,
          "text": "ConvSTAL-PS-Spikformer-MNIST",
          "x": 0.22,
          "xanchor": "center",
          "xref": "paper",
          "y": 0.44,
          "yanchor": "bottom",
          "yref": "paper"
         },
         {
          "font": {
           "size": 16
          },
          "showarrow": false,
          "text": "ConvSTAL-PS-Spikformer-CIFAR10",
          "x": 0.78,
          "xanchor": "center",
          "xref": "paper",
          "y": 0.44,
          "yanchor": "bottom",
          "yref": "paper"
         }
        ],
        "height": 800,
        "legend": {
         "font": {
          "size": 14
         },
         "orientation": "h",
         "tracegroupgap": 5,
         "x": 0.5,
         "xanchor": "center",
         "y": -0.1,
         "yanchor": "top"
        },
        "margin": {
         "b": 0,
         "t": 40
        },
        "showlegend": true,
        "template": {
         "data": {
          "bar": [
           {
            "error_x": {
             "color": "#2a3f5f"
            },
            "error_y": {
             "color": "#2a3f5f"
            },
            "marker": {
             "line": {
              "color": "#E5ECF6",
              "width": 0.5
             },
             "pattern": {
              "fillmode": "overlay",
              "size": 10,
              "solidity": 0.2
             }
            },
            "type": "bar"
           }
          ],
          "barpolar": [
           {
            "marker": {
             "line": {
              "color": "#E5ECF6",
              "width": 0.5
             },
             "pattern": {
              "fillmode": "overlay",
              "size": 10,
              "solidity": 0.2
             }
            },
            "type": "barpolar"
           }
          ],
          "carpet": [
           {
            "aaxis": {
             "endlinecolor": "#2a3f5f",
             "gridcolor": "white",
             "linecolor": "white",
             "minorgridcolor": "white",
             "startlinecolor": "#2a3f5f"
            },
            "baxis": {
             "endlinecolor": "#2a3f5f",
             "gridcolor": "white",
             "linecolor": "white",
             "minorgridcolor": "white",
             "startlinecolor": "#2a3f5f"
            },
            "type": "carpet"
           }
          ],
          "choropleth": [
           {
            "colorbar": {
             "outlinewidth": 0,
             "ticks": ""
            },
            "type": "choropleth"
           }
          ],
          "contour": [
           {
            "colorbar": {
             "outlinewidth": 0,
             "ticks": ""
            },
            "colorscale": [
             [
              0,
              "#0d0887"
             ],
             [
              0.1111111111111111,
              "#46039f"
             ],
             [
              0.2222222222222222,
              "#7201a8"
             ],
             [
              0.3333333333333333,
              "#9c179e"
             ],
             [
              0.4444444444444444,
              "#bd3786"
             ],
             [
              0.5555555555555556,
              "#d8576b"
             ],
             [
              0.6666666666666666,
              "#ed7953"
             ],
             [
              0.7777777777777778,
              "#fb9f3a"
             ],
             [
              0.8888888888888888,
              "#fdca26"
             ],
             [
              1,
              "#f0f921"
             ]
            ],
            "type": "contour"
           }
          ],
          "contourcarpet": [
           {
            "colorbar": {
             "outlinewidth": 0,
             "ticks": ""
            },
            "type": "contourcarpet"
           }
          ],
          "heatmap": [
           {
            "colorbar": {
             "outlinewidth": 0,
             "ticks": ""
            },
            "colorscale": [
             [
              0,
              "#0d0887"
             ],
             [
              0.1111111111111111,
              "#46039f"
             ],
             [
              0.2222222222222222,
              "#7201a8"
             ],
             [
              0.3333333333333333,
              "#9c179e"
             ],
             [
              0.4444444444444444,
              "#bd3786"
             ],
             [
              0.5555555555555556,
              "#d8576b"
             ],
             [
              0.6666666666666666,
              "#ed7953"
             ],
             [
              0.7777777777777778,
              "#fb9f3a"
             ],
             [
              0.8888888888888888,
              "#fdca26"
             ],
             [
              1,
              "#f0f921"
             ]
            ],
            "type": "heatmap"
           }
          ],
          "histogram": [
           {
            "marker": {
             "pattern": {
              "fillmode": "overlay",
              "size": 10,
              "solidity": 0.2
             }
            },
            "type": "histogram"
           }
          ],
          "histogram2d": [
           {
            "colorbar": {
             "outlinewidth": 0,
             "ticks": ""
            },
            "colorscale": [
             [
              0,
              "#0d0887"
             ],
             [
              0.1111111111111111,
              "#46039f"
             ],
             [
              0.2222222222222222,
              "#7201a8"
             ],
             [
              0.3333333333333333,
              "#9c179e"
             ],
             [
              0.4444444444444444,
              "#bd3786"
             ],
             [
              0.5555555555555556,
              "#d8576b"
             ],
             [
              0.6666666666666666,
              "#ed7953"
             ],
             [
              0.7777777777777778,
              "#fb9f3a"
             ],
             [
              0.8888888888888888,
              "#fdca26"
             ],
             [
              1,
              "#f0f921"
             ]
            ],
            "type": "histogram2d"
           }
          ],
          "histogram2dcontour": [
           {
            "colorbar": {
             "outlinewidth": 0,
             "ticks": ""
            },
            "colorscale": [
             [
              0,
              "#0d0887"
             ],
             [
              0.1111111111111111,
              "#46039f"
             ],
             [
              0.2222222222222222,
              "#7201a8"
             ],
             [
              0.3333333333333333,
              "#9c179e"
             ],
             [
              0.4444444444444444,
              "#bd3786"
             ],
             [
              0.5555555555555556,
              "#d8576b"
             ],
             [
              0.6666666666666666,
              "#ed7953"
             ],
             [
              0.7777777777777778,
              "#fb9f3a"
             ],
             [
              0.8888888888888888,
              "#fdca26"
             ],
             [
              1,
              "#f0f921"
             ]
            ],
            "type": "histogram2dcontour"
           }
          ],
          "mesh3d": [
           {
            "colorbar": {
             "outlinewidth": 0,
             "ticks": ""
            },
            "type": "mesh3d"
           }
          ],
          "parcoords": [
           {
            "line": {
             "colorbar": {
              "outlinewidth": 0,
              "ticks": ""
             }
            },
            "type": "parcoords"
           }
          ],
          "pie": [
           {
            "automargin": true,
            "type": "pie"
           }
          ],
          "scatter": [
           {
            "fillpattern": {
             "fillmode": "overlay",
             "size": 10,
             "solidity": 0.2
            },
            "type": "scatter"
           }
          ],
          "scatter3d": [
           {
            "line": {
             "colorbar": {
              "outlinewidth": 0,
              "ticks": ""
             }
            },
            "marker": {
             "colorbar": {
              "outlinewidth": 0,
              "ticks": ""
             }
            },
            "type": "scatter3d"
           }
          ],
          "scattercarpet": [
           {
            "marker": {
             "colorbar": {
              "outlinewidth": 0,
              "ticks": ""
             }
            },
            "type": "scattercarpet"
           }
          ],
          "scattergeo": [
           {
            "marker": {
             "colorbar": {
              "outlinewidth": 0,
              "ticks": ""
             }
            },
            "type": "scattergeo"
           }
          ],
          "scattergl": [
           {
            "marker": {
             "colorbar": {
              "outlinewidth": 0,
              "ticks": ""
             }
            },
            "type": "scattergl"
           }
          ],
          "scattermap": [
           {
            "marker": {
             "colorbar": {
              "outlinewidth": 0,
              "ticks": ""
             }
            },
            "type": "scattermap"
           }
          ],
          "scattermapbox": [
           {
            "marker": {
             "colorbar": {
              "outlinewidth": 0,
              "ticks": ""
             }
            },
            "type": "scattermapbox"
           }
          ],
          "scatterpolar": [
           {
            "marker": {
             "colorbar": {
              "outlinewidth": 0,
              "ticks": ""
             }
            },
            "type": "scatterpolar"
           }
          ],
          "scatterpolargl": [
           {
            "marker": {
             "colorbar": {
              "outlinewidth": 0,
              "ticks": ""
             }
            },
            "type": "scatterpolargl"
           }
          ],
          "scatterternary": [
           {
            "marker": {
             "colorbar": {
              "outlinewidth": 0,
              "ticks": ""
             }
            },
            "type": "scatterternary"
           }
          ],
          "surface": [
           {
            "colorbar": {
             "outlinewidth": 0,
             "ticks": ""
            },
            "colorscale": [
             [
              0,
              "#0d0887"
             ],
             [
              0.1111111111111111,
              "#46039f"
             ],
             [
              0.2222222222222222,
              "#7201a8"
             ],
             [
              0.3333333333333333,
              "#9c179e"
             ],
             [
              0.4444444444444444,
              "#bd3786"
             ],
             [
              0.5555555555555556,
              "#d8576b"
             ],
             [
              0.6666666666666666,
              "#ed7953"
             ],
             [
              0.7777777777777778,
              "#fb9f3a"
             ],
             [
              0.8888888888888888,
              "#fdca26"
             ],
             [
              1,
              "#f0f921"
             ]
            ],
            "type": "surface"
           }
          ],
          "table": [
           {
            "cells": {
             "fill": {
              "color": "#EBF0F8"
             },
             "line": {
              "color": "white"
             }
            },
            "header": {
             "fill": {
              "color": "#C8D4E3"
             },
             "line": {
              "color": "white"
             }
            },
            "type": "table"
           }
          ]
         },
         "layout": {
          "annotationdefaults": {
           "arrowcolor": "#2a3f5f",
           "arrowhead": 0,
           "arrowwidth": 1
          },
          "autotypenumbers": "strict",
          "coloraxis": {
           "colorbar": {
            "outlinewidth": 0,
            "ticks": ""
           }
          },
          "colorscale": {
           "diverging": [
            [
             0,
             "#8e0152"
            ],
            [
             0.1,
             "#c51b7d"
            ],
            [
             0.2,
             "#de77ae"
            ],
            [
             0.3,
             "#f1b6da"
            ],
            [
             0.4,
             "#fde0ef"
            ],
            [
             0.5,
             "#f7f7f7"
            ],
            [
             0.6,
             "#e6f5d0"
            ],
            [
             0.7,
             "#b8e186"
            ],
            [
             0.8,
             "#7fbc41"
            ],
            [
             0.9,
             "#4d9221"
            ],
            [
             1,
             "#276419"
            ]
           ],
           "sequential": [
            [
             0,
             "#0d0887"
            ],
            [
             0.1111111111111111,
             "#46039f"
            ],
            [
             0.2222222222222222,
             "#7201a8"
            ],
            [
             0.3333333333333333,
             "#9c179e"
            ],
            [
             0.4444444444444444,
             "#bd3786"
            ],
            [
             0.5555555555555556,
             "#d8576b"
            ],
            [
             0.6666666666666666,
             "#ed7953"
            ],
            [
             0.7777777777777778,
             "#fb9f3a"
            ],
            [
             0.8888888888888888,
             "#fdca26"
            ],
            [
             1,
             "#f0f921"
            ]
           ],
           "sequentialminus": [
            [
             0,
             "#0d0887"
            ],
            [
             0.1111111111111111,
             "#46039f"
            ],
            [
             0.2222222222222222,
             "#7201a8"
            ],
            [
             0.3333333333333333,
             "#9c179e"
            ],
            [
             0.4444444444444444,
             "#bd3786"
            ],
            [
             0.5555555555555556,
             "#d8576b"
            ],
            [
             0.6666666666666666,
             "#ed7953"
            ],
            [
             0.7777777777777778,
             "#fb9f3a"
            ],
            [
             0.8888888888888888,
             "#fdca26"
            ],
            [
             1,
             "#f0f921"
            ]
           ]
          },
          "colorway": [
           "#636efa",
           "#EF553B",
           "#00cc96",
           "#ab63fa",
           "#FFA15A",
           "#19d3f3",
           "#FF6692",
           "#B6E880",
           "#FF97FF",
           "#FECB52"
          ],
          "font": {
           "color": "#2a3f5f"
          },
          "geo": {
           "bgcolor": "white",
           "lakecolor": "white",
           "landcolor": "#E5ECF6",
           "showlakes": true,
           "showland": true,
           "subunitcolor": "white"
          },
          "hoverlabel": {
           "align": "left"
          },
          "hovermode": "closest",
          "mapbox": {
           "style": "light"
          },
          "paper_bgcolor": "white",
          "plot_bgcolor": "#E5ECF6",
          "polar": {
           "angularaxis": {
            "gridcolor": "white",
            "linecolor": "white",
            "ticks": ""
           },
           "bgcolor": "#E5ECF6",
           "radialaxis": {
            "gridcolor": "white",
            "linecolor": "white",
            "ticks": ""
           }
          },
          "scene": {
           "xaxis": {
            "backgroundcolor": "#E5ECF6",
            "gridcolor": "white",
            "gridwidth": 2,
            "linecolor": "white",
            "showbackground": true,
            "ticks": "",
            "zerolinecolor": "white"
           },
           "yaxis": {
            "backgroundcolor": "#E5ECF6",
            "gridcolor": "white",
            "gridwidth": 2,
            "linecolor": "white",
            "showbackground": true,
            "ticks": "",
            "zerolinecolor": "white"
           },
           "zaxis": {
            "backgroundcolor": "#E5ECF6",
            "gridcolor": "white",
            "gridwidth": 2,
            "linecolor": "white",
            "showbackground": true,
            "ticks": "",
            "zerolinecolor": "white"
           }
          },
          "shapedefaults": {
           "line": {
            "color": "#2a3f5f"
           }
          },
          "ternary": {
           "aaxis": {
            "gridcolor": "white",
            "linecolor": "white",
            "ticks": ""
           },
           "baxis": {
            "gridcolor": "white",
            "linecolor": "white",
            "ticks": ""
           },
           "bgcolor": "#E5ECF6",
           "caxis": {
            "gridcolor": "white",
            "linecolor": "white",
            "ticks": ""
           }
          },
          "title": {
           "x": 0.05
          },
          "xaxis": {
           "automargin": true,
           "gridcolor": "white",
           "linecolor": "white",
           "ticks": "",
           "title": {
            "standoff": 15
           },
           "zerolinecolor": "white",
           "zerolinewidth": 2
          },
          "yaxis": {
           "automargin": true,
           "gridcolor": "white",
           "linecolor": "white",
           "ticks": "",
           "title": {
            "standoff": 15
           },
           "zerolinecolor": "white",
           "zerolinewidth": 2
          }
         }
        },
        "title": {
         "font": {
          "size": 2
         }
        },
        "width": 1100,
        "xaxis": {
         "anchor": "y",
         "domain": [
          0,
          0.44
         ],
         "title": {
          "text": "Spike Density"
         }
        },
        "xaxis2": {
         "anchor": "y2",
         "domain": [
          0.56,
          1
         ],
         "title": {
          "text": "Spike Density"
         }
        },
        "xaxis3": {
         "anchor": "y3",
         "domain": [
          0,
          0.44
         ],
         "title": {
          "text": "Spike Density"
         }
        },
        "xaxis4": {
         "anchor": "y4",
         "domain": [
          0.56,
          1
         ],
         "title": {
          "text": "Spike Density"
         }
        },
        "yaxis": {
         "anchor": "x",
         "domain": [
          0.56,
          1
         ],
         "title": {
          "text": "Accuracy"
         }
        },
        "yaxis2": {
         "anchor": "x2",
         "domain": [
          0.56,
          1
         ],
         "title": {
          "text": "Accuracy"
         }
        },
        "yaxis3": {
         "anchor": "x3",
         "domain": [
          0,
          0.44
         ],
         "title": {
          "text": "Accuracy"
         }
        },
        "yaxis4": {
         "anchor": "x4",
         "domain": [
          0,
          0.44
         ],
         "title": {
          "text": "Accuracy"
         }
        }
       }
      }
     },
     "metadata": {},
     "output_type": "display_data"
    }
   ],
   "source": [
    "fig = make_subplots(\n",
    "    rows=2, cols=2,\n",
    "    subplot_titles=('ConvSTAL-SRNN-MNIST', 'ConvSTAL-SRNN-CIFAR10', \n",
    "                   'ConvSTAL-PS-Spikformer-MNIST', 'ConvSTAL-PS-Spikformer-CIFAR10'),\n",
    "    horizontal_spacing=0.12,\n",
    "    vertical_spacing=0.12\n",
    ")\n",
    "\n",
    "plots = [\n",
    "    (*experiments[0], 1, 1, 'blue'),\n",
    "    (*experiments[1], 1, 2, 'red'),\n",
    "    (*experiments[2], 2, 1, 'green'),\n",
    "    (*experiments[3], 2, 2, 'purple')\n",
    "]\n",
    "\n",
    "# Add all subplots\n",
    "for study, name, row, col, color in plots:\n",
    "    add_subplot_traces(fig, study, name, row, col, color)\n",
    "\n",
    "# Update layout and axes labels\n",
    "for i in range(1, 5):\n",
    "    row, col = (i-1)//2 + 1, (i-1)%2 + 1\n",
    "    fig.update_xaxes(title_text=\"Spike Density\", row=row, col=col)\n",
    "    fig.update_yaxes(title_text=\"Accuracy\", row=row, col=col)\n",
    "\n",
    "# Final layout update\n",
    "fig.update_layout(\n",
    "    height=800, width=1100,\n",
    "    showlegend=True,\n",
    "    legend=dict(\n",
    "        orientation=\"h\",\n",
    "        yanchor=\"top\",\n",
    "        y=-0.1,\n",
    "        xanchor=\"center\",\n",
    "        x=0.5,\n",
    "        font=dict(size=14),\n",
    "        tracegroupgap=5\n",
    "    ),\n",
    "    margin=dict(t=40, b=0),\n",
    "    title_font=dict(size=2)\n",
    ")\n",
    "\n",
    "fig.show()"
   ]
  },
  {
   "cell_type": "code",
   "execution_count": 5,
   "metadata": {},
   "outputs": [
    {
     "name": "stdout",
     "output_type": "stream",
     "text": [
      "/nConvSTAL-SRNN-MNIST Pareto Front:\n"
     ]
    },
    {
     "data": {
      "text/html": [
       "<style type=\"text/css\">\n",
       "#T_3e62d th {\n",
       "  text-align: left;\n",
       "  font-weight: bold;\n",
       "}\n",
       "#T_3e62d  {\n",
       "  border: 1px solid black;\n",
       "}\n",
       "#T_3e62d th {\n",
       "  padding: 8px;\n",
       "}\n",
       "#T_3e62d td {\n",
       "  padding: 8px;\n",
       "}\n",
       "#T_3e62d_row0_col0, #T_3e62d_row0_col1, #T_3e62d_row0_col2, #T_3e62d_row0_col3, #T_3e62d_row0_col4, #T_3e62d_row1_col0, #T_3e62d_row1_col1, #T_3e62d_row1_col2, #T_3e62d_row1_col3, #T_3e62d_row1_col4, #T_3e62d_row2_col0, #T_3e62d_row2_col1, #T_3e62d_row2_col2, #T_3e62d_row2_col3, #T_3e62d_row2_col4, #T_3e62d_row3_col0, #T_3e62d_row3_col1, #T_3e62d_row3_col2, #T_3e62d_row3_col3, #T_3e62d_row3_col4, #T_3e62d_row4_col0, #T_3e62d_row4_col1, #T_3e62d_row4_col2, #T_3e62d_row4_col3, #T_3e62d_row4_col4, #T_3e62d_row5_col0, #T_3e62d_row5_col1, #T_3e62d_row5_col2, #T_3e62d_row5_col3, #T_3e62d_row5_col4, #T_3e62d_row6_col0, #T_3e62d_row6_col1, #T_3e62d_row6_col2, #T_3e62d_row6_col3, #T_3e62d_row6_col4, #T_3e62d_row7_col0, #T_3e62d_row7_col1, #T_3e62d_row7_col2, #T_3e62d_row7_col3, #T_3e62d_row7_col4, #T_3e62d_row8_col0, #T_3e62d_row8_col1, #T_3e62d_row8_col2, #T_3e62d_row8_col3, #T_3e62d_row8_col4, #T_3e62d_row9_col0, #T_3e62d_row9_col1, #T_3e62d_row9_col2, #T_3e62d_row9_col3, #T_3e62d_row9_col4, #T_3e62d_row10_col0, #T_3e62d_row10_col1, #T_3e62d_row10_col2, #T_3e62d_row10_col3, #T_3e62d_row10_col4 {\n",
       "  text-align: left;\n",
       "}\n",
       "</style>\n",
       "<table id=\"T_3e62d\">\n",
       "  <thead>\n",
       "    <tr>\n",
       "      <th id=\"T_3e62d_level0_col0\" class=\"col_heading level0 col0\" >Model</th>\n",
       "      <th id=\"T_3e62d_level0_col1\" class=\"col_heading level0 col1\" >ω</th>\n",
       "      <th id=\"T_3e62d_level0_col2\" class=\"col_heading level0 col2\" >c</th>\n",
       "      <th id=\"T_3e62d_level0_col3\" class=\"col_heading level0 col3\" >Accuracy</th>\n",
       "      <th id=\"T_3e62d_level0_col4\" class=\"col_heading level0 col4\" >Spike Density</th>\n",
       "    </tr>\n",
       "  </thead>\n",
       "  <tbody>\n",
       "    <tr>\n",
       "      <td id=\"T_3e62d_row0_col0\" class=\"data row0 col0\" >ConvSTAL-SRNN-MNIST</td>\n",
       "      <td id=\"T_3e62d_row0_col1\" class=\"data row0 col1\" >0.000486</td>\n",
       "      <td id=\"T_3e62d_row0_col2\" class=\"data row0 col2\" >5.809605</td>\n",
       "      <td id=\"T_3e62d_row0_col3\" class=\"data row0 col3\" >93.07%</td>\n",
       "      <td id=\"T_3e62d_row0_col4\" class=\"data row0 col4\" >0.0049</td>\n",
       "    </tr>\n",
       "    <tr>\n",
       "      <td id=\"T_3e62d_row1_col0\" class=\"data row1 col0\" >ConvSTAL-SRNN-MNIST</td>\n",
       "      <td id=\"T_3e62d_row1_col1\" class=\"data row1 col1\" >0.000380</td>\n",
       "      <td id=\"T_3e62d_row1_col2\" class=\"data row1 col2\" >0.781559</td>\n",
       "      <td id=\"T_3e62d_row1_col3\" class=\"data row1 col3\" >94.20%</td>\n",
       "      <td id=\"T_3e62d_row1_col4\" class=\"data row1 col4\" >0.0051</td>\n",
       "    </tr>\n",
       "    <tr>\n",
       "      <td id=\"T_3e62d_row2_col0\" class=\"data row2 col0\" >ConvSTAL-SRNN-MNIST</td>\n",
       "      <td id=\"T_3e62d_row2_col1\" class=\"data row2 col1\" >0.000258</td>\n",
       "      <td id=\"T_3e62d_row2_col2\" class=\"data row2 col2\" >3.576088</td>\n",
       "      <td id=\"T_3e62d_row2_col3\" class=\"data row2 col3\" >94.49%</td>\n",
       "      <td id=\"T_3e62d_row2_col4\" class=\"data row2 col4\" >0.0066</td>\n",
       "    </tr>\n",
       "    <tr>\n",
       "      <td id=\"T_3e62d_row3_col0\" class=\"data row3 col0\" >ConvSTAL-SRNN-MNIST</td>\n",
       "      <td id=\"T_3e62d_row3_col1\" class=\"data row3 col1\" >0.000228</td>\n",
       "      <td id=\"T_3e62d_row3_col2\" class=\"data row3 col2\" >0.455820</td>\n",
       "      <td id=\"T_3e62d_row3_col3\" class=\"data row3 col3\" >95.03%</td>\n",
       "      <td id=\"T_3e62d_row3_col4\" class=\"data row3 col4\" >0.0073</td>\n",
       "    </tr>\n",
       "    <tr>\n",
       "      <td id=\"T_3e62d_row4_col0\" class=\"data row4 col0\" >ConvSTAL-SRNN-MNIST</td>\n",
       "      <td id=\"T_3e62d_row4_col1\" class=\"data row4 col1\" >0.000202</td>\n",
       "      <td id=\"T_3e62d_row4_col2\" class=\"data row4 col2\" >0.243836</td>\n",
       "      <td id=\"T_3e62d_row4_col3\" class=\"data row4 col3\" >95.07%</td>\n",
       "      <td id=\"T_3e62d_row4_col4\" class=\"data row4 col4\" >0.0083</td>\n",
       "    </tr>\n",
       "    <tr>\n",
       "      <td id=\"T_3e62d_row5_col0\" class=\"data row5 col0\" >ConvSTAL-SRNN-MNIST</td>\n",
       "      <td id=\"T_3e62d_row5_col1\" class=\"data row5 col1\" >0.000146</td>\n",
       "      <td id=\"T_3e62d_row5_col2\" class=\"data row5 col2\" >0.404360</td>\n",
       "      <td id=\"T_3e62d_row5_col3\" class=\"data row5 col3\" >95.32%</td>\n",
       "      <td id=\"T_3e62d_row5_col4\" class=\"data row5 col4\" >0.0103</td>\n",
       "    </tr>\n",
       "    <tr>\n",
       "      <td id=\"T_3e62d_row6_col0\" class=\"data row6 col0\" >ConvSTAL-SRNN-MNIST</td>\n",
       "      <td id=\"T_3e62d_row6_col1\" class=\"data row6 col1\" >0.000138</td>\n",
       "      <td id=\"T_3e62d_row6_col2\" class=\"data row6 col2\" >0.126446</td>\n",
       "      <td id=\"T_3e62d_row6_col3\" class=\"data row6 col3\" >95.49%</td>\n",
       "      <td id=\"T_3e62d_row6_col4\" class=\"data row6 col4\" >0.0111</td>\n",
       "    </tr>\n",
       "    <tr>\n",
       "      <td id=\"T_3e62d_row7_col0\" class=\"data row7 col0\" >ConvSTAL-SRNN-MNIST</td>\n",
       "      <td id=\"T_3e62d_row7_col1\" class=\"data row7 col1\" >0.000038</td>\n",
       "      <td id=\"T_3e62d_row7_col2\" class=\"data row7 col2\" >8.775846</td>\n",
       "      <td id=\"T_3e62d_row7_col3\" class=\"data row7 col3\" >95.77%</td>\n",
       "      <td id=\"T_3e62d_row7_col4\" class=\"data row7 col4\" >0.0373</td>\n",
       "    </tr>\n",
       "    <tr>\n",
       "      <td id=\"T_3e62d_row8_col0\" class=\"data row8 col0\" >ConvSTAL-SRNN-MNIST</td>\n",
       "      <td id=\"T_3e62d_row8_col1\" class=\"data row8 col1\" >0.000035</td>\n",
       "      <td id=\"T_3e62d_row8_col2\" class=\"data row8 col2\" >0.627759</td>\n",
       "      <td id=\"T_3e62d_row8_col3\" class=\"data row8 col3\" >96.02%</td>\n",
       "      <td id=\"T_3e62d_row8_col4\" class=\"data row8 col4\" >0.0422</td>\n",
       "    </tr>\n",
       "    <tr>\n",
       "      <td id=\"T_3e62d_row9_col0\" class=\"data row9 col0\" >ConvSTAL-SRNN-MNIST</td>\n",
       "      <td id=\"T_3e62d_row9_col1\" class=\"data row9 col1\" >0.000032</td>\n",
       "      <td id=\"T_3e62d_row9_col2\" class=\"data row9 col2\" >0.408155</td>\n",
       "      <td id=\"T_3e62d_row9_col3\" class=\"data row9 col3\" >96.09%</td>\n",
       "      <td id=\"T_3e62d_row9_col4\" class=\"data row9 col4\" >0.0449</td>\n",
       "    </tr>\n",
       "    <tr>\n",
       "      <td id=\"T_3e62d_row10_col0\" class=\"data row10 col0\" >ConvSTAL-SRNN-MNIST</td>\n",
       "      <td id=\"T_3e62d_row10_col1\" class=\"data row10 col1\" >0.000004</td>\n",
       "      <td id=\"T_3e62d_row10_col2\" class=\"data row10 col2\" >0.420591</td>\n",
       "      <td id=\"T_3e62d_row10_col3\" class=\"data row10 col3\" >96.34%</td>\n",
       "      <td id=\"T_3e62d_row10_col4\" class=\"data row10 col4\" >0.1166</td>\n",
       "    </tr>\n",
       "  </tbody>\n",
       "</table>\n"
      ],
      "text/plain": [
       "<pandas.io.formats.style.Styler at 0x1b5711a1820>"
      ]
     },
     "metadata": {},
     "output_type": "display_data"
    },
    {
     "name": "stdout",
     "output_type": "stream",
     "text": [
      "/nConvSTAL-SRNN-CIFAR10 Pareto Front:\n"
     ]
    },
    {
     "data": {
      "text/html": [
       "<style type=\"text/css\">\n",
       "#T_d6c0b th {\n",
       "  text-align: left;\n",
       "  font-weight: bold;\n",
       "}\n",
       "#T_d6c0b  {\n",
       "  border: 1px solid black;\n",
       "}\n",
       "#T_d6c0b th {\n",
       "  padding: 8px;\n",
       "}\n",
       "#T_d6c0b td {\n",
       "  padding: 8px;\n",
       "}\n",
       "#T_d6c0b_row0_col0, #T_d6c0b_row0_col1, #T_d6c0b_row0_col2, #T_d6c0b_row0_col3, #T_d6c0b_row0_col4, #T_d6c0b_row1_col0, #T_d6c0b_row1_col1, #T_d6c0b_row1_col2, #T_d6c0b_row1_col3, #T_d6c0b_row1_col4, #T_d6c0b_row2_col0, #T_d6c0b_row2_col1, #T_d6c0b_row2_col2, #T_d6c0b_row2_col3, #T_d6c0b_row2_col4, #T_d6c0b_row3_col0, #T_d6c0b_row3_col1, #T_d6c0b_row3_col2, #T_d6c0b_row3_col3, #T_d6c0b_row3_col4, #T_d6c0b_row4_col0, #T_d6c0b_row4_col1, #T_d6c0b_row4_col2, #T_d6c0b_row4_col3, #T_d6c0b_row4_col4, #T_d6c0b_row5_col0, #T_d6c0b_row5_col1, #T_d6c0b_row5_col2, #T_d6c0b_row5_col3, #T_d6c0b_row5_col4, #T_d6c0b_row6_col0, #T_d6c0b_row6_col1, #T_d6c0b_row6_col2, #T_d6c0b_row6_col3, #T_d6c0b_row6_col4, #T_d6c0b_row7_col0, #T_d6c0b_row7_col1, #T_d6c0b_row7_col2, #T_d6c0b_row7_col3, #T_d6c0b_row7_col4, #T_d6c0b_row8_col0, #T_d6c0b_row8_col1, #T_d6c0b_row8_col2, #T_d6c0b_row8_col3, #T_d6c0b_row8_col4, #T_d6c0b_row9_col0, #T_d6c0b_row9_col1, #T_d6c0b_row9_col2, #T_d6c0b_row9_col3, #T_d6c0b_row9_col4, #T_d6c0b_row10_col0, #T_d6c0b_row10_col1, #T_d6c0b_row10_col2, #T_d6c0b_row10_col3, #T_d6c0b_row10_col4 {\n",
       "  text-align: left;\n",
       "}\n",
       "</style>\n",
       "<table id=\"T_d6c0b\">\n",
       "  <thead>\n",
       "    <tr>\n",
       "      <th id=\"T_d6c0b_level0_col0\" class=\"col_heading level0 col0\" >Model</th>\n",
       "      <th id=\"T_d6c0b_level0_col1\" class=\"col_heading level0 col1\" >ω</th>\n",
       "      <th id=\"T_d6c0b_level0_col2\" class=\"col_heading level0 col2\" >c</th>\n",
       "      <th id=\"T_d6c0b_level0_col3\" class=\"col_heading level0 col3\" >Accuracy</th>\n",
       "      <th id=\"T_d6c0b_level0_col4\" class=\"col_heading level0 col4\" >Spike Density</th>\n",
       "    </tr>\n",
       "  </thead>\n",
       "  <tbody>\n",
       "    <tr>\n",
       "      <td id=\"T_d6c0b_row0_col0\" class=\"data row0 col0\" >ConvSTAL-SRNN-CIFAR10</td>\n",
       "      <td id=\"T_d6c0b_row0_col1\" class=\"data row0 col1\" >0.000322</td>\n",
       "      <td id=\"T_d6c0b_row0_col2\" class=\"data row0 col2\" >3.517105</td>\n",
       "      <td id=\"T_d6c0b_row0_col3\" class=\"data row0 col3\" >45.63%</td>\n",
       "      <td id=\"T_d6c0b_row0_col4\" class=\"data row0 col4\" >0.0032</td>\n",
       "    </tr>\n",
       "    <tr>\n",
       "      <td id=\"T_d6c0b_row1_col0\" class=\"data row1 col0\" >ConvSTAL-SRNN-CIFAR10</td>\n",
       "      <td id=\"T_d6c0b_row1_col1\" class=\"data row1 col1\" >0.000304</td>\n",
       "      <td id=\"T_d6c0b_row1_col2\" class=\"data row1 col2\" >0.513950</td>\n",
       "      <td id=\"T_d6c0b_row1_col3\" class=\"data row1 col3\" >46.45%</td>\n",
       "      <td id=\"T_d6c0b_row1_col4\" class=\"data row1 col4\" >0.0035</td>\n",
       "    </tr>\n",
       "    <tr>\n",
       "      <td id=\"T_d6c0b_row2_col0\" class=\"data row2 col0\" >ConvSTAL-SRNN-CIFAR10</td>\n",
       "      <td id=\"T_d6c0b_row2_col1\" class=\"data row2 col1\" >0.000287</td>\n",
       "      <td id=\"T_d6c0b_row2_col2\" class=\"data row2 col2\" >2.072612</td>\n",
       "      <td id=\"T_d6c0b_row2_col3\" class=\"data row2 col3\" >47.28%</td>\n",
       "      <td id=\"T_d6c0b_row2_col4\" class=\"data row2 col4\" >0.0037</td>\n",
       "    </tr>\n",
       "    <tr>\n",
       "      <td id=\"T_d6c0b_row3_col0\" class=\"data row3 col0\" >ConvSTAL-SRNN-CIFAR10</td>\n",
       "      <td id=\"T_d6c0b_row3_col1\" class=\"data row3 col1\" >0.000297</td>\n",
       "      <td id=\"T_d6c0b_row3_col2\" class=\"data row3 col2\" >0.240749</td>\n",
       "      <td id=\"T_d6c0b_row3_col3\" class=\"data row3 col3\" >47.56%</td>\n",
       "      <td id=\"T_d6c0b_row3_col4\" class=\"data row3 col4\" >0.0042</td>\n",
       "    </tr>\n",
       "    <tr>\n",
       "      <td id=\"T_d6c0b_row4_col0\" class=\"data row4 col0\" >ConvSTAL-SRNN-CIFAR10</td>\n",
       "      <td id=\"T_d6c0b_row4_col1\" class=\"data row4 col1\" >0.000060</td>\n",
       "      <td id=\"T_d6c0b_row4_col2\" class=\"data row4 col2\" >0.903964</td>\n",
       "      <td id=\"T_d6c0b_row4_col3\" class=\"data row4 col3\" >48.95%</td>\n",
       "      <td id=\"T_d6c0b_row4_col4\" class=\"data row4 col4\" >0.0221</td>\n",
       "    </tr>\n",
       "    <tr>\n",
       "      <td id=\"T_d6c0b_row5_col0\" class=\"data row5 col0\" >ConvSTAL-SRNN-CIFAR10</td>\n",
       "      <td id=\"T_d6c0b_row5_col1\" class=\"data row5 col1\" >0.000041</td>\n",
       "      <td id=\"T_d6c0b_row5_col2\" class=\"data row5 col2\" >1.044866</td>\n",
       "      <td id=\"T_d6c0b_row5_col3\" class=\"data row5 col3\" >50.72%</td>\n",
       "      <td id=\"T_d6c0b_row5_col4\" class=\"data row5 col4\" >0.0317</td>\n",
       "    </tr>\n",
       "    <tr>\n",
       "      <td id=\"T_d6c0b_row6_col0\" class=\"data row6 col0\" >ConvSTAL-SRNN-CIFAR10</td>\n",
       "      <td id=\"T_d6c0b_row6_col1\" class=\"data row6 col1\" >0.000035</td>\n",
       "      <td id=\"T_d6c0b_row6_col2\" class=\"data row6 col2\" >5.090004</td>\n",
       "      <td id=\"T_d6c0b_row6_col3\" class=\"data row6 col3\" >50.81%</td>\n",
       "      <td id=\"T_d6c0b_row6_col4\" class=\"data row6 col4\" >0.0359</td>\n",
       "    </tr>\n",
       "    <tr>\n",
       "      <td id=\"T_d6c0b_row7_col0\" class=\"data row7 col0\" >ConvSTAL-SRNN-CIFAR10</td>\n",
       "      <td id=\"T_d6c0b_row7_col1\" class=\"data row7 col1\" >0.000016</td>\n",
       "      <td id=\"T_d6c0b_row7_col2\" class=\"data row7 col2\" >2.558919</td>\n",
       "      <td id=\"T_d6c0b_row7_col3\" class=\"data row7 col3\" >50.94%</td>\n",
       "      <td id=\"T_d6c0b_row7_col4\" class=\"data row7 col4\" >0.0560</td>\n",
       "    </tr>\n",
       "    <tr>\n",
       "      <td id=\"T_d6c0b_row8_col0\" class=\"data row8 col0\" >ConvSTAL-SRNN-CIFAR10</td>\n",
       "      <td id=\"T_d6c0b_row8_col1\" class=\"data row8 col1\" >0.000011</td>\n",
       "      <td id=\"T_d6c0b_row8_col2\" class=\"data row8 col2\" >0.149043</td>\n",
       "      <td id=\"T_d6c0b_row8_col3\" class=\"data row8 col3\" >51.64%</td>\n",
       "      <td id=\"T_d6c0b_row8_col4\" class=\"data row8 col4\" >0.0892</td>\n",
       "    </tr>\n",
       "    <tr>\n",
       "      <td id=\"T_d6c0b_row9_col0\" class=\"data row9 col0\" >ConvSTAL-SRNN-CIFAR10</td>\n",
       "      <td id=\"T_d6c0b_row9_col1\" class=\"data row9 col1\" >0.000007</td>\n",
       "      <td id=\"T_d6c0b_row9_col2\" class=\"data row9 col2\" >1.719923</td>\n",
       "      <td id=\"T_d6c0b_row9_col3\" class=\"data row9 col3\" >51.95%</td>\n",
       "      <td id=\"T_d6c0b_row9_col4\" class=\"data row9 col4\" >0.1204</td>\n",
       "    </tr>\n",
       "    <tr>\n",
       "      <td id=\"T_d6c0b_row10_col0\" class=\"data row10 col0\" >ConvSTAL-SRNN-CIFAR10</td>\n",
       "      <td id=\"T_d6c0b_row10_col1\" class=\"data row10 col1\" >0.000001</td>\n",
       "      <td id=\"T_d6c0b_row10_col2\" class=\"data row10 col2\" >5.986189</td>\n",
       "      <td id=\"T_d6c0b_row10_col3\" class=\"data row10 col3\" >52.95%</td>\n",
       "      <td id=\"T_d6c0b_row10_col4\" class=\"data row10 col4\" >0.1773</td>\n",
       "    </tr>\n",
       "  </tbody>\n",
       "</table>\n"
      ],
      "text/plain": [
       "<pandas.io.formats.style.Styler at 0x1b524f656d0>"
      ]
     },
     "metadata": {},
     "output_type": "display_data"
    },
    {
     "name": "stdout",
     "output_type": "stream",
     "text": [
      "/nConvSTAL-PS-Spikformer-MNIST Pareto Front:\n"
     ]
    },
    {
     "data": {
      "text/html": [
       "<style type=\"text/css\">\n",
       "#T_63f2b th {\n",
       "  text-align: left;\n",
       "  font-weight: bold;\n",
       "}\n",
       "#T_63f2b  {\n",
       "  border: 1px solid black;\n",
       "}\n",
       "#T_63f2b th {\n",
       "  padding: 8px;\n",
       "}\n",
       "#T_63f2b td {\n",
       "  padding: 8px;\n",
       "}\n",
       "#T_63f2b_row0_col0, #T_63f2b_row0_col1, #T_63f2b_row0_col2, #T_63f2b_row0_col3, #T_63f2b_row0_col4, #T_63f2b_row1_col0, #T_63f2b_row1_col1, #T_63f2b_row1_col2, #T_63f2b_row1_col3, #T_63f2b_row1_col4, #T_63f2b_row2_col0, #T_63f2b_row2_col1, #T_63f2b_row2_col2, #T_63f2b_row2_col3, #T_63f2b_row2_col4, #T_63f2b_row3_col0, #T_63f2b_row3_col1, #T_63f2b_row3_col2, #T_63f2b_row3_col3, #T_63f2b_row3_col4, #T_63f2b_row4_col0, #T_63f2b_row4_col1, #T_63f2b_row4_col2, #T_63f2b_row4_col3, #T_63f2b_row4_col4, #T_63f2b_row5_col0, #T_63f2b_row5_col1, #T_63f2b_row5_col2, #T_63f2b_row5_col3, #T_63f2b_row5_col4, #T_63f2b_row6_col0, #T_63f2b_row6_col1, #T_63f2b_row6_col2, #T_63f2b_row6_col3, #T_63f2b_row6_col4, #T_63f2b_row7_col0, #T_63f2b_row7_col1, #T_63f2b_row7_col2, #T_63f2b_row7_col3, #T_63f2b_row7_col4, #T_63f2b_row8_col0, #T_63f2b_row8_col1, #T_63f2b_row8_col2, #T_63f2b_row8_col3, #T_63f2b_row8_col4, #T_63f2b_row9_col0, #T_63f2b_row9_col1, #T_63f2b_row9_col2, #T_63f2b_row9_col3, #T_63f2b_row9_col4, #T_63f2b_row10_col0, #T_63f2b_row10_col1, #T_63f2b_row10_col2, #T_63f2b_row10_col3, #T_63f2b_row10_col4, #T_63f2b_row11_col0, #T_63f2b_row11_col1, #T_63f2b_row11_col2, #T_63f2b_row11_col3, #T_63f2b_row11_col4, #T_63f2b_row12_col0, #T_63f2b_row12_col1, #T_63f2b_row12_col2, #T_63f2b_row12_col3, #T_63f2b_row12_col4 {\n",
       "  text-align: left;\n",
       "}\n",
       "</style>\n",
       "<table id=\"T_63f2b\">\n",
       "  <thead>\n",
       "    <tr>\n",
       "      <th id=\"T_63f2b_level0_col0\" class=\"col_heading level0 col0\" >Model</th>\n",
       "      <th id=\"T_63f2b_level0_col1\" class=\"col_heading level0 col1\" >ω</th>\n",
       "      <th id=\"T_63f2b_level0_col2\" class=\"col_heading level0 col2\" >c</th>\n",
       "      <th id=\"T_63f2b_level0_col3\" class=\"col_heading level0 col3\" >Accuracy</th>\n",
       "      <th id=\"T_63f2b_level0_col4\" class=\"col_heading level0 col4\" >Spike Density</th>\n",
       "    </tr>\n",
       "  </thead>\n",
       "  <tbody>\n",
       "    <tr>\n",
       "      <td id=\"T_63f2b_row0_col0\" class=\"data row0 col0\" >ConvSTAL-PS-Spikformer-MNIST</td>\n",
       "      <td id=\"T_63f2b_row0_col1\" class=\"data row0 col1\" >0.000440</td>\n",
       "      <td id=\"T_63f2b_row0_col2\" class=\"data row0 col2\" >0.683634</td>\n",
       "      <td id=\"T_63f2b_row0_col3\" class=\"data row0 col3\" >97.09%</td>\n",
       "      <td id=\"T_63f2b_row0_col4\" class=\"data row0 col4\" >0.0191</td>\n",
       "    </tr>\n",
       "    <tr>\n",
       "      <td id=\"T_63f2b_row1_col0\" class=\"data row1 col0\" >ConvSTAL-PS-Spikformer-MNIST</td>\n",
       "      <td id=\"T_63f2b_row1_col1\" class=\"data row1 col1\" >0.000465</td>\n",
       "      <td id=\"T_63f2b_row1_col2\" class=\"data row1 col2\" >7.576043</td>\n",
       "      <td id=\"T_63f2b_row1_col3\" class=\"data row1 col3\" >97.81%</td>\n",
       "      <td id=\"T_63f2b_row1_col4\" class=\"data row1 col4\" >0.0205</td>\n",
       "    </tr>\n",
       "    <tr>\n",
       "      <td id=\"T_63f2b_row2_col0\" class=\"data row2 col0\" >ConvSTAL-PS-Spikformer-MNIST</td>\n",
       "      <td id=\"T_63f2b_row2_col1\" class=\"data row2 col1\" >0.000309</td>\n",
       "      <td id=\"T_63f2b_row2_col2\" class=\"data row2 col2\" >0.679316</td>\n",
       "      <td id=\"T_63f2b_row2_col3\" class=\"data row2 col3\" >97.93%</td>\n",
       "      <td id=\"T_63f2b_row2_col4\" class=\"data row2 col4\" >0.0374</td>\n",
       "    </tr>\n",
       "    <tr>\n",
       "      <td id=\"T_63f2b_row3_col0\" class=\"data row3 col0\" >ConvSTAL-PS-Spikformer-MNIST</td>\n",
       "      <td id=\"T_63f2b_row3_col1\" class=\"data row3 col1\" >0.000241</td>\n",
       "      <td id=\"T_63f2b_row3_col2\" class=\"data row3 col2\" >0.657531</td>\n",
       "      <td id=\"T_63f2b_row3_col3\" class=\"data row3 col3\" >98.22%</td>\n",
       "      <td id=\"T_63f2b_row3_col4\" class=\"data row3 col4\" >0.0515</td>\n",
       "    </tr>\n",
       "    <tr>\n",
       "      <td id=\"T_63f2b_row4_col0\" class=\"data row4 col0\" >ConvSTAL-PS-Spikformer-MNIST</td>\n",
       "      <td id=\"T_63f2b_row4_col1\" class=\"data row4 col1\" >0.000187</td>\n",
       "      <td id=\"T_63f2b_row4_col2\" class=\"data row4 col2\" >2.586043</td>\n",
       "      <td id=\"T_63f2b_row4_col3\" class=\"data row4 col3\" >98.33%</td>\n",
       "      <td id=\"T_63f2b_row4_col4\" class=\"data row4 col4\" >0.0825</td>\n",
       "    </tr>\n",
       "    <tr>\n",
       "      <td id=\"T_63f2b_row5_col0\" class=\"data row5 col0\" >ConvSTAL-PS-Spikformer-MNIST</td>\n",
       "      <td id=\"T_63f2b_row5_col1\" class=\"data row5 col1\" >0.000063</td>\n",
       "      <td id=\"T_63f2b_row5_col2\" class=\"data row5 col2\" >8.809531</td>\n",
       "      <td id=\"T_63f2b_row5_col3\" class=\"data row5 col3\" >98.42%</td>\n",
       "      <td id=\"T_63f2b_row5_col4\" class=\"data row5 col4\" >0.2534</td>\n",
       "    </tr>\n",
       "    <tr>\n",
       "      <td id=\"T_63f2b_row6_col0\" class=\"data row6 col0\" >ConvSTAL-PS-Spikformer-MNIST</td>\n",
       "      <td id=\"T_63f2b_row6_col1\" class=\"data row6 col1\" >0.000072</td>\n",
       "      <td id=\"T_63f2b_row6_col2\" class=\"data row6 col2\" >5.936923</td>\n",
       "      <td id=\"T_63f2b_row6_col3\" class=\"data row6 col3\" >98.46%</td>\n",
       "      <td id=\"T_63f2b_row6_col4\" class=\"data row6 col4\" >0.2585</td>\n",
       "    </tr>\n",
       "    <tr>\n",
       "      <td id=\"T_63f2b_row7_col0\" class=\"data row7 col0\" >ConvSTAL-PS-Spikformer-MNIST</td>\n",
       "      <td id=\"T_63f2b_row7_col1\" class=\"data row7 col1\" >0.000045</td>\n",
       "      <td id=\"T_63f2b_row7_col2\" class=\"data row7 col2\" >0.924930</td>\n",
       "      <td id=\"T_63f2b_row7_col3\" class=\"data row7 col3\" >98.72%</td>\n",
       "      <td id=\"T_63f2b_row7_col4\" class=\"data row7 col4\" >0.3623</td>\n",
       "    </tr>\n",
       "    <tr>\n",
       "      <td id=\"T_63f2b_row8_col0\" class=\"data row8 col0\" >ConvSTAL-PS-Spikformer-MNIST</td>\n",
       "      <td id=\"T_63f2b_row8_col1\" class=\"data row8 col1\" >0.000032</td>\n",
       "      <td id=\"T_63f2b_row8_col2\" class=\"data row8 col2\" >0.210550</td>\n",
       "      <td id=\"T_63f2b_row8_col3\" class=\"data row8 col3\" >98.90%</td>\n",
       "      <td id=\"T_63f2b_row8_col4\" class=\"data row8 col4\" >0.4262</td>\n",
       "    </tr>\n",
       "    <tr>\n",
       "      <td id=\"T_63f2b_row9_col0\" class=\"data row9 col0\" >ConvSTAL-PS-Spikformer-MNIST</td>\n",
       "      <td id=\"T_63f2b_row9_col1\" class=\"data row9 col1\" >0.000029</td>\n",
       "      <td id=\"T_63f2b_row9_col2\" class=\"data row9 col2\" >5.156634</td>\n",
       "      <td id=\"T_63f2b_row9_col3\" class=\"data row9 col3\" >98.91%</td>\n",
       "      <td id=\"T_63f2b_row9_col4\" class=\"data row9 col4\" >0.4702</td>\n",
       "    </tr>\n",
       "    <tr>\n",
       "      <td id=\"T_63f2b_row10_col0\" class=\"data row10 col0\" >ConvSTAL-PS-Spikformer-MNIST</td>\n",
       "      <td id=\"T_63f2b_row10_col1\" class=\"data row10 col1\" >0.000024</td>\n",
       "      <td id=\"T_63f2b_row10_col2\" class=\"data row10 col2\" >2.360998</td>\n",
       "      <td id=\"T_63f2b_row10_col3\" class=\"data row10 col3\" >99.07%</td>\n",
       "      <td id=\"T_63f2b_row10_col4\" class=\"data row10 col4\" >0.5058</td>\n",
       "    </tr>\n",
       "    <tr>\n",
       "      <td id=\"T_63f2b_row11_col0\" class=\"data row11 col0\" >ConvSTAL-PS-Spikformer-MNIST</td>\n",
       "      <td id=\"T_63f2b_row11_col1\" class=\"data row11 col1\" >0.000019</td>\n",
       "      <td id=\"T_63f2b_row11_col2\" class=\"data row11 col2\" >6.848254</td>\n",
       "      <td id=\"T_63f2b_row11_col3\" class=\"data row11 col3\" >99.10%</td>\n",
       "      <td id=\"T_63f2b_row11_col4\" class=\"data row11 col4\" >0.5149</td>\n",
       "    </tr>\n",
       "    <tr>\n",
       "      <td id=\"T_63f2b_row12_col0\" class=\"data row12 col0\" >ConvSTAL-PS-Spikformer-MNIST</td>\n",
       "      <td id=\"T_63f2b_row12_col1\" class=\"data row12 col1\" >0.000011</td>\n",
       "      <td id=\"T_63f2b_row12_col2\" class=\"data row12 col2\" >0.413505</td>\n",
       "      <td id=\"T_63f2b_row12_col3\" class=\"data row12 col3\" >99.11%</td>\n",
       "      <td id=\"T_63f2b_row12_col4\" class=\"data row12 col4\" >0.5785</td>\n",
       "    </tr>\n",
       "  </tbody>\n",
       "</table>\n"
      ],
      "text/plain": [
       "<pandas.io.formats.style.Styler at 0x1b524e48d40>"
      ]
     },
     "metadata": {},
     "output_type": "display_data"
    },
    {
     "name": "stdout",
     "output_type": "stream",
     "text": [
      "/nConvSTAL-PS-Spikformer-CIFAR10 Pareto Front:\n"
     ]
    },
    {
     "data": {
      "text/html": [
       "<style type=\"text/css\">\n",
       "#T_00f10 th {\n",
       "  text-align: left;\n",
       "  font-weight: bold;\n",
       "}\n",
       "#T_00f10  {\n",
       "  border: 1px solid black;\n",
       "}\n",
       "#T_00f10 th {\n",
       "  padding: 8px;\n",
       "}\n",
       "#T_00f10 td {\n",
       "  padding: 8px;\n",
       "}\n",
       "#T_00f10_row0_col0, #T_00f10_row0_col1, #T_00f10_row0_col2, #T_00f10_row0_col3, #T_00f10_row0_col4, #T_00f10_row1_col0, #T_00f10_row1_col1, #T_00f10_row1_col2, #T_00f10_row1_col3, #T_00f10_row1_col4, #T_00f10_row2_col0, #T_00f10_row2_col1, #T_00f10_row2_col2, #T_00f10_row2_col3, #T_00f10_row2_col4, #T_00f10_row3_col0, #T_00f10_row3_col1, #T_00f10_row3_col2, #T_00f10_row3_col3, #T_00f10_row3_col4, #T_00f10_row4_col0, #T_00f10_row4_col1, #T_00f10_row4_col2, #T_00f10_row4_col3, #T_00f10_row4_col4, #T_00f10_row5_col0, #T_00f10_row5_col1, #T_00f10_row5_col2, #T_00f10_row5_col3, #T_00f10_row5_col4, #T_00f10_row6_col0, #T_00f10_row6_col1, #T_00f10_row6_col2, #T_00f10_row6_col3, #T_00f10_row6_col4, #T_00f10_row7_col0, #T_00f10_row7_col1, #T_00f10_row7_col2, #T_00f10_row7_col3, #T_00f10_row7_col4 {\n",
       "  text-align: left;\n",
       "}\n",
       "</style>\n",
       "<table id=\"T_00f10\">\n",
       "  <thead>\n",
       "    <tr>\n",
       "      <th id=\"T_00f10_level0_col0\" class=\"col_heading level0 col0\" >Model</th>\n",
       "      <th id=\"T_00f10_level0_col1\" class=\"col_heading level0 col1\" >ω</th>\n",
       "      <th id=\"T_00f10_level0_col2\" class=\"col_heading level0 col2\" >c</th>\n",
       "      <th id=\"T_00f10_level0_col3\" class=\"col_heading level0 col3\" >Accuracy</th>\n",
       "      <th id=\"T_00f10_level0_col4\" class=\"col_heading level0 col4\" >Spike Density</th>\n",
       "    </tr>\n",
       "  </thead>\n",
       "  <tbody>\n",
       "    <tr>\n",
       "      <td id=\"T_00f10_row0_col0\" class=\"data row0 col0\" >ConvSTAL-PS-Spikformer-CIFAR10</td>\n",
       "      <td id=\"T_00f10_row0_col1\" class=\"data row0 col1\" >0.000430</td>\n",
       "      <td id=\"T_00f10_row0_col2\" class=\"data row0 col2\" >3.669165</td>\n",
       "      <td id=\"T_00f10_row0_col3\" class=\"data row0 col3\" >72.36%</td>\n",
       "      <td id=\"T_00f10_row0_col4\" class=\"data row0 col4\" >0.0864</td>\n",
       "    </tr>\n",
       "    <tr>\n",
       "      <td id=\"T_00f10_row1_col0\" class=\"data row1 col0\" >ConvSTAL-PS-Spikformer-CIFAR10</td>\n",
       "      <td id=\"T_00f10_row1_col1\" class=\"data row1 col1\" >0.000444</td>\n",
       "      <td id=\"T_00f10_row1_col2\" class=\"data row1 col2\" >0.280315</td>\n",
       "      <td id=\"T_00f10_row1_col3\" class=\"data row1 col3\" >73.76%</td>\n",
       "      <td id=\"T_00f10_row1_col4\" class=\"data row1 col4\" >0.0871</td>\n",
       "    </tr>\n",
       "    <tr>\n",
       "      <td id=\"T_00f10_row2_col0\" class=\"data row2 col0\" >ConvSTAL-PS-Spikformer-CIFAR10</td>\n",
       "      <td id=\"T_00f10_row2_col1\" class=\"data row2 col1\" >0.000287</td>\n",
       "      <td id=\"T_00f10_row2_col2\" class=\"data row2 col2\" >3.823839</td>\n",
       "      <td id=\"T_00f10_row2_col3\" class=\"data row2 col3\" >74.21%</td>\n",
       "      <td id=\"T_00f10_row2_col4\" class=\"data row2 col4\" >0.1483</td>\n",
       "    </tr>\n",
       "    <tr>\n",
       "      <td id=\"T_00f10_row3_col0\" class=\"data row3 col0\" >ConvSTAL-PS-Spikformer-CIFAR10</td>\n",
       "      <td id=\"T_00f10_row3_col1\" class=\"data row3 col1\" >0.000261</td>\n",
       "      <td id=\"T_00f10_row3_col2\" class=\"data row3 col2\" >1.193656</td>\n",
       "      <td id=\"T_00f10_row3_col3\" class=\"data row3 col3\" >74.75%</td>\n",
       "      <td id=\"T_00f10_row3_col4\" class=\"data row3 col4\" >0.1562</td>\n",
       "    </tr>\n",
       "    <tr>\n",
       "      <td id=\"T_00f10_row4_col0\" class=\"data row4 col0\" >ConvSTAL-PS-Spikformer-CIFAR10</td>\n",
       "      <td id=\"T_00f10_row4_col1\" class=\"data row4 col1\" >0.000227</td>\n",
       "      <td id=\"T_00f10_row4_col2\" class=\"data row4 col2\" >5.724930</td>\n",
       "      <td id=\"T_00f10_row4_col3\" class=\"data row4 col3\" >75.15%</td>\n",
       "      <td id=\"T_00f10_row4_col4\" class=\"data row4 col4\" >0.2255</td>\n",
       "    </tr>\n",
       "    <tr>\n",
       "      <td id=\"T_00f10_row5_col0\" class=\"data row5 col0\" >ConvSTAL-PS-Spikformer-CIFAR10</td>\n",
       "      <td id=\"T_00f10_row5_col1\" class=\"data row5 col1\" >0.000165</td>\n",
       "      <td id=\"T_00f10_row5_col2\" class=\"data row5 col2\" >0.390717</td>\n",
       "      <td id=\"T_00f10_row5_col3\" class=\"data row5 col3\" >75.46%</td>\n",
       "      <td id=\"T_00f10_row5_col4\" class=\"data row5 col4\" >0.3453</td>\n",
       "    </tr>\n",
       "    <tr>\n",
       "      <td id=\"T_00f10_row6_col0\" class=\"data row6 col0\" >ConvSTAL-PS-Spikformer-CIFAR10</td>\n",
       "      <td id=\"T_00f10_row6_col1\" class=\"data row6 col1\" >0.000146</td>\n",
       "      <td id=\"T_00f10_row6_col2\" class=\"data row6 col2\" >0.227388</td>\n",
       "      <td id=\"T_00f10_row6_col3\" class=\"data row6 col3\" >76.02%</td>\n",
       "      <td id=\"T_00f10_row6_col4\" class=\"data row6 col4\" >0.3745</td>\n",
       "    </tr>\n",
       "    <tr>\n",
       "      <td id=\"T_00f10_row7_col0\" class=\"data row7 col0\" >ConvSTAL-PS-Spikformer-CIFAR10</td>\n",
       "      <td id=\"T_00f10_row7_col1\" class=\"data row7 col1\" >0.000055</td>\n",
       "      <td id=\"T_00f10_row7_col2\" class=\"data row7 col2\" >1.175782</td>\n",
       "      <td id=\"T_00f10_row7_col3\" class=\"data row7 col3\" >76.86%</td>\n",
       "      <td id=\"T_00f10_row7_col4\" class=\"data row7 col4\" >0.6157</td>\n",
       "    </tr>\n",
       "  </tbody>\n",
       "</table>\n"
      ],
      "text/plain": [
       "<pandas.io.formats.style.Styler at 0x1b524bc5d00>"
      ]
     },
     "metadata": {},
     "output_type": "display_data"
    }
   ],
   "source": [
    "def get_pareto_front_data(study, model_name):\n",
    "    \"\"\"Get all points on the Pareto front with their parameters.\"\"\"\n",
    "    trials = study.best_trials\n",
    "    \n",
    "    # Sort trials by spike density for better readability\n",
    "    trials = sorted(trials, key=lambda t: t.values[1])  # Sort by spike density\n",
    "    \n",
    "    data = []\n",
    "    for trial in trials:\n",
    "        data.append({\n",
    "            'Model': model_name,\n",
    "            'ω': f\"{trial.params['omega']:.6f}\",\n",
    "            'c': f\"{trial.params['concentration_weight']:.6f}\",\n",
    "            'Accuracy': f\"{trial.values[0]*100:.2f}%\",\n",
    "            'Spike Density': f\"{trial.values[1]:.4f}\"\n",
    "        })\n",
    "    \n",
    "    return data\n",
    "\n",
    "# Get Pareto front data for each experiment\n",
    "all_data = []\n",
    "\n",
    "\n",
    "for study, name in experiments:\n",
    "    print(f\"/n{name} Pareto Front:\")\n",
    "    data = get_pareto_front_data(study, name)\n",
    "    all_data.extend(data)\n",
    "    \n",
    "    # Create and display DataFrame for this experiment\n",
    "    df = pd.DataFrame(data)\n",
    "    \n",
    "    # sort by spike density\n",
    "    df = df.sort_values(by='Spike Density')\n",
    "    \n",
    "    display(df.style\n",
    "           .set_properties(**{'text-align': 'left'})\n",
    "           .set_table_styles([\n",
    "               {'selector': 'th', 'props': [('text-align', 'left'), ('font-weight', 'bold')]},\n",
    "               {'selector': '', 'props': [('border', '1px solid black')]},\n",
    "               {'selector': 'th,td', 'props': [('padding', '8px')]}\n",
    "           ])\n",
    "           .hide(axis='index'))\n"
   ]
  },
  {
   "cell_type": "code",
   "execution_count": 48,
   "metadata": {},
   "outputs": [],
   "source": [
    "def plot_importance(metric_id, metric_name):\n",
    "    fig, axes = plt.subplots(2, 2, figsize=(8, 4))\n",
    "    fig.suptitle(f'Hyperparameter Importance for {metric_name}')\n",
    "    axes = axes.flatten()\n",
    "\n",
    "    # Plot for each experiment\n",
    "    for ax, (study, name) in zip(axes, experiments):\n",
    "        # Calculate importance scores\n",
    "        importances = optuna.importance.get_param_importances(study, target=lambda t: t.values[metric_id])\n",
    "        \n",
    "        params = list(importances.keys())\n",
    "        scores = list(importances.values())\n",
    "        \n",
    "        y_pos = np.arange(len(params))\n",
    "        bars = ax.barh(y_pos, scores)\n",
    "        \n",
    "        ax.set_yticks(y_pos)\n",
    "        ax.set_yticklabels(['c' if p == 'concentration_weight' else 'omega' for p in params])\n",
    "        ax.set_xlabel('Importance Score')\n",
    "        ax.set_title(name)\n",
    "        \n",
    "        for i, bar in enumerate(bars):\n",
    "            width = bar.get_width()\n",
    "            ax.text(width, bar.get_y() + bar.get_height()/2,\n",
    "                    f'{width:.3f}', \n",
    "                    ha='left', va='center')\n",
    "\n",
    "    plt.tight_layout()\n",
    "    plt.show()\n"
   ]
  },
  {
   "cell_type": "code",
   "execution_count": 49,
   "metadata": {},
   "outputs": [
    {
     "data": {
      "image/png": "[encoded data removed]",
      "text/plain": [
       "<Figure size 800x400 with 4 Axes>"
      ]
     },
     "metadata": {},
     "output_type": "display_data"
    },
    {
     "data": {
      "image/png": "[encoded data removed]",
      "text/plain": [
       "<Figure size 800x400 with 4 Axes>"
      ]
     },
     "metadata": {},
     "output_type": "display_data"
    }
   ],
   "source": [
    "plot_importance(0, 'accuracy')\n",
    "plot_importance(1, 'spike density')"
   ]
  },
  {
   "cell_type": "code",
   "execution_count": null,
   "metadata": {},
   "outputs": [],
   "source": [
    "## Chosen weights\n",
    "\n",
    "# Spikformer_mnist\n",
    "# omega = 0.000309\t\n",
    "# c = 0.679316\n",
    "# saved model path: experiments/thesis_hyperparameter_search_spikformer_mnist/dymo78zm/checkpoints/epoch=9-step=3760.ckpt\n",
    "\n",
    "# Spikformer_cifar10\n",
    "# omega = 0.000444\t\t\n",
    "# c = 0.280315\n",
    "# saved model path: experiments/thesis_hyperparameter_search_spikformer_cifar10/298swbe8/checkpoints/epoch=9-step=3130.ckpt\n",
    "\n",
    "# SRNN_mnist\n",
    "# omega = 0.000138\t\n",
    "# c = 0.126446\n",
    "# saved model path: experiments\\thesis_hyperparameter_search_srnn_mnist\\zfc1310z\\checkpoints\\epoch=4-step=1880.ckpt\n",
    "\n",
    "# SRNN_cifar10\n",
    "# omega = 0.000035\t\n",
    "# c = 0.627759\n",
    "# saved model path: experiments\\thesis_hyperparameter_search_srnn_cifar10\\8a1y4lr1\\checkpoints\\epoch=4-step=1565.ckpt\n"
   ]
  }
 ],
 "metadata": {
  "kernelspec": {
   "display_name": "myenv",
   "language": "python",
   "name": "python3"
  },
  "language_info": {
   "codemirror_mode": {
    "name": "ipython",
    "version": 3
   },
   "file_extension": ".py",
   "mimetype": "text/x-python",
   "name": "python",
   "nbconvert_exporter": "python",
   "pygments_lexer": "ipython3",
   "version": "3.12.2"
  }
 },
 "nbformat": 4,
 "nbformat_minor": 2
}
